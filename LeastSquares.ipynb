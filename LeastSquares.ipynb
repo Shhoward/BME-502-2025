{
 "cells": [
  {
   "cell_type": "code",
   "execution_count": 1,
   "id": "bec37242-9cc6-48cc-9563-d52d1d2ec3b4",
   "metadata": {},
   "outputs": [
    {
     "name": "stderr",
     "output_type": "stream",
     "text": [
      "\u001b[32m\u001b[1m  Activating\u001b[22m\u001b[39m project at `~/Documents/programming/BME-502-2025`\n"
     ]
    }
   ],
   "source": [
    "import Pkg\n",
    "Pkg.activate(\".\")"
   ]
  },
  {
   "cell_type": "code",
   "execution_count": 2,
   "id": "3dca9c4f-49c3-4ed1-85a9-8bbc97198320",
   "metadata": {},
   "outputs": [
    {
     "name": "stderr",
     "output_type": "stream",
     "text": [
      "\u001b[32m\u001b[1m    Updating\u001b[22m\u001b[39m registry at `~/.julia/registries/NeurobloxRegistry`\n",
      "\u001b[32m\u001b[1m    Updating\u001b[22m\u001b[39m git-repo `https://github.com/Neuroblox/NeurobloxRegistry`\n",
      "\u001b[32m\u001b[1m    Updating\u001b[22m\u001b[39m registry at `~/.julia/registries/General.toml`\n",
      "\u001b[32m\u001b[1m   Resolving\u001b[22m\u001b[39m package versions...\n",
      "\u001b[32m\u001b[1m  No Changes\u001b[22m\u001b[39m to `~/Documents/programming/BME-502-2025/Project.toml`\n",
      "\u001b[32m\u001b[1m  No Changes\u001b[22m\u001b[39m to `~/Documents/programming/BME-502-2025/Manifest.toml`\n"
     ]
    }
   ],
   "source": [
    "Pkg.add([\"NonlinearSolve\",\"Plots\",\"ForwardDiff\",\"LsqFit\",\"Statistics\"])"
   ]
  },
  {
   "cell_type": "markdown",
   "id": "d499e47d-17c7-4135-b505-1883441bf2d6",
   "metadata": {},
   "source": [
    "# Linear Least Squares\n",
    "We define a linear fit function as follows\n",
    "$$f(x, \\boldsymbol \\beta) = \\sum_{j = 1}^m \\beta_j \\phi_j(x)$$\n",
    "We create matrices of the independent and dependent variables\n",
    "$$X_{ij}= \\phi_j(x_{i})$$\n",
    "$$Y$$\n",
    "We express $\\mathcal{X} ^2$ as:\n",
    "$$\\mathcal{X}^2(D, \\boldsymbol{\\beta}) = \\left\\|Y - X\\boldsymbol{\\beta} \\right\\|^2\n",
    "= (Y - X\\boldsymbol{\\beta})^\\mathsf{T} (Y - X\\boldsymbol{\\beta})\n",
    "= Y^\\mathsf{T}Y- Y^\\mathsf{T}X\\boldsymbol{\\beta}- \\boldsymbol{\\beta}^\\mathsf{T}X^\\mathsf{T}Y + \\boldsymbol{\\beta}^\\mathsf{T}X^\\mathsf{T}X\\boldsymbol{\\beta}$$\n",
    "$$= Y^\\mathsf{T}Y- X^\\mathsf{T}Y\\boldsymbol{\\beta}- X^\\mathsf{T}Y\\boldsymbol{\\beta} + \\boldsymbol{\\beta}^\\mathsf{T}X^\\mathsf{T}X\\boldsymbol{\\beta}$$\n",
    "$$\\frac{\\partial \\mathcal{X}^2(D, \\boldsymbol{\\beta})}{\\partial \\boldsymbol{\\beta}}\n",
    "= \\frac{\\partial \\left(Y^\\mathsf{T}Y- X^\\mathsf{T}Y\\boldsymbol{\\beta}- X^\\mathsf{T}Y\\boldsymbol{\\beta} + X^\\mathsf{T}X\\boldsymbol{\\beta}^2\\right)}{\\partial \\boldsymbol{\\beta}}\n",
    "= -2X^\\mathsf{T}Y + 2X^\\mathsf{T}X\\boldsymbol{\\beta}$$\n",
    "$$-2X^\\mathsf{T}Y + 2X^\\mathsf{T}X\\boldsymbol{\\beta} = 0$$\n",
    "$$\\boldsymbol{\\hat{\\beta}} = \\left(X^\\mathsf{T}X\\right)^{-1} X^\\mathsf{T}Y$$"
   ]
  },
  {
   "cell_type": "code",
   "execution_count": null,
   "id": "010e5fed-c4ec-4985-9713-6afeb32bf8b4",
   "metadata": {},
   "outputs": [],
   "source": []
  }
 ],
 "metadata": {
  "kernelspec": {
   "display_name": "Julia 1.11.3",
   "language": "julia",
   "name": "julia-1.11"
  },
  "language_info": {
   "file_extension": ".jl",
   "mimetype": "application/julia",
   "name": "julia",
   "version": "1.11.3"
  }
 },
 "nbformat": 4,
 "nbformat_minor": 5
}
