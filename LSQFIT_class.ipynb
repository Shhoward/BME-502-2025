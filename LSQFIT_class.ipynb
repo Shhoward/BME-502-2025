{
 "cells": [
  {
   "cell_type": "code",
   "execution_count": 1,
   "id": "2130cecd-9456-41eb-a195-58e8fb5b89ab",
   "metadata": {},
   "outputs": [
    {
     "name": "stderr",
     "output_type": "stream",
     "text": [
      "\u001b[32m\u001b[1m  Activating\u001b[22m\u001b[39m project at `~/Documents/programming/BME-502-2025`\n"
     ]
    }
   ],
   "source": [
    "import Pkg\n",
    "Pkg.activate(\".\")"
   ]
  },
  {
   "cell_type": "code",
   "execution_count": 3,
   "id": "89f9952e-2925-41b0-9a8f-4f3af18c66e6",
   "metadata": {},
   "outputs": [
    {
     "name": "stderr",
     "output_type": "stream",
     "text": [
      "\u001b[32m\u001b[1m   Resolving\u001b[22m\u001b[39m package versions...\n",
      "\u001b[32m\u001b[1m  No Changes\u001b[22m\u001b[39m to `~/Documents/programming/BME-502-2025/Project.toml`\n",
      "\u001b[32m\u001b[1m  No Changes\u001b[22m\u001b[39m to `~/Documents/programming/BME-502-2025/Manifest.toml`\n"
     ]
    }
   ],
   "source": [
    "Pkg.add([\"NonlinearSolve\",\"Random\",\"Plots\",\"ForwardDiff\",\"LsqFit\",\"Statistics\"])"
   ]
  },
  {
   "cell_type": "code",
   "execution_count": 7,
   "id": "33a220d3-c722-44df-9e74-a7759d5fe38e",
   "metadata": {},
   "outputs": [],
   "source": [
    "using Plots, Random, ForwardDiff, NonlinearSolve, LsqFit, Statistics "
   ]
  },
  {
   "cell_type": "code",
   "execution_count": 4,
   "id": "83c1874a-4014-49ae-8f5e-43232e849f4f",
   "metadata": {},
   "outputs": [
    {
     "data": {
      "text/plain": [
       "11-element Vector{Float64}:\n",
       " 0.0\n",
       " 0.1\n",
       " 0.2\n",
       " 0.3\n",
       " 0.4\n",
       " 0.5\n",
       " 0.6\n",
       " 0.7\n",
       " 0.8\n",
       " 0.9\n",
       " 1.0"
      ]
     },
     "execution_count": 4,
     "metadata": {},
     "output_type": "execute_result"
    }
   ],
   "source": [
    "x = collect(0:0.1:1)"
   ]
  },
  {
   "cell_type": "code",
   "execution_count": 5,
   "id": "1cea096f-3a2b-409f-9e71-3c9782e02305",
   "metadata": {},
   "outputs": [
    {
     "data": {
      "text/plain": [
       "11-element Vector{Float64}:\n",
       " 2.0\n",
       " 1.6374615061559636\n",
       " 1.3406400920712787\n",
       " 1.097623272188053\n",
       " 0.8986579282344431\n",
       " 0.7357588823428847\n",
       " 0.6023884238244043\n",
       " 0.493193927883213\n",
       " 0.40379303598931077\n",
       " 0.33059777644317306\n",
       " 0.2706705664732254"
      ]
     },
     "execution_count": 5,
     "metadata": {},
     "output_type": "execute_result"
    }
   ],
   "source": [
    "y = 2 .* exp.(-2x)"
   ]
  },
  {
   "cell_type": "code",
   "execution_count": 8,
   "id": "2d99d517-0dc2-4775-a75c-d42e91165966",
   "metadata": {},
   "outputs": [
    {
     "data": {
      "image/png": "[encoded data removed]",
      "image/svg+xml": [
       "<?xml version=\"1.0\" encoding=\"utf-8\"?>\n",
       "<svg xmlns=\"http://www.w3.org/2000/svg\" xmlns:xlink=\"http://www.w3.org/1999/xlink\" width=\"600\" height=\"400\" viewBox=\"0 0 2400 1600\">\n",
       "<defs>\n",
       "  <clipPath id=\"clip870\">\n",
       "    <rect x=\"0\" y=\"0\" width=\"2400\" height=\"1600\"/>\n",
       "  </clipPath>\n",
       "</defs>\n",
       "<path clip-path=\"url(#clip870)\" d=\"M0 1600 L2400 1600 L2400 8.88178e-14 L0 8.88178e-14  Z\" fill=\"#ffffff\" fill-rule=\"evenodd\" fill-opacity=\"1\"/>\n",
       "<defs>\n",
       "  <clipPath id=\"clip871\">\n",
       "    <rect x=\"480\" y=\"0\" width=\"1681\" height=\"1600\"/>\n",
       "  </clipPath>\n",
       "</defs>\n",
       "<path clip-path=\"url(#clip870)\" d=\"M155.765 1486.45 L2352.76 1486.45 L2352.76 47.2441 L155.765 47.2441  Z\" fill=\"#ffffff\" fill-rule=\"evenodd\" fill-opacity=\"1\"/>\n",
       "<defs>\n",
       "  <clipPath id=\"clip872\">\n",
       "    <rect x=\"155\" y=\"47\" width=\"2198\" height=\"1440\"/>\n",
       "  </clipPath>\n",
       "</defs>\n",
       "<polyline clip-path=\"url(#clip872)\" style=\"stroke:#000000; stroke-linecap:round; stroke-linejoin:round; stroke-width:2; stroke-opacity:0.1; fill:none\" points=\"217.944,1486.45 217.944,47.2441 \"/>\n",
       "<polyline clip-path=\"url(#clip872)\" style=\"stroke:#000000; stroke-linecap:round; stroke-linejoin:round; stroke-width:2; stroke-opacity:0.1; fill:none\" points=\"736.102,1486.45 736.102,47.2441 \"/>\n",
       "<polyline clip-path=\"url(#clip872)\" style=\"stroke:#000000; stroke-linecap:round; stroke-linejoin:round; stroke-width:2; stroke-opacity:0.1; fill:none\" points=\"1254.26,1486.45 1254.26,47.2441 \"/>\n",
       "<polyline clip-path=\"url(#clip872)\" style=\"stroke:#000000; stroke-linecap:round; stroke-linejoin:round; stroke-width:2; stroke-opacity:0.1; fill:none\" points=\"1772.42,1486.45 1772.42,47.2441 \"/>\n",
       "<polyline clip-path=\"url(#clip872)\" style=\"stroke:#000000; stroke-linecap:round; stroke-linejoin:round; stroke-width:2; stroke-opacity:0.1; fill:none\" points=\"2290.58,1486.45 2290.58,47.2441 \"/>\n",
       "<polyline clip-path=\"url(#clip872)\" style=\"stroke:#000000; stroke-linecap:round; stroke-linejoin:round; stroke-width:2; stroke-opacity:0.1; fill:none\" points=\"155.765,1265.66 2352.76,1265.66 \"/>\n",
       "<polyline clip-path=\"url(#clip872)\" style=\"stroke:#000000; stroke-linecap:round; stroke-linejoin:round; stroke-width:2; stroke-opacity:0.1; fill:none\" points=\"155.765,873.101 2352.76,873.101 \"/>\n",
       "<polyline clip-path=\"url(#clip872)\" style=\"stroke:#000000; stroke-linecap:round; stroke-linejoin:round; stroke-width:2; stroke-opacity:0.1; fill:none\" points=\"155.765,480.539 2352.76,480.539 \"/>\n",
       "<polyline clip-path=\"url(#clip872)\" style=\"stroke:#000000; stroke-linecap:round; stroke-linejoin:round; stroke-width:2; stroke-opacity:0.1; fill:none\" points=\"155.765,87.9763 2352.76,87.9763 \"/>\n",
       "<polyline clip-path=\"url(#clip870)\" style=\"stroke:#000000; stroke-linecap:round; stroke-linejoin:round; stroke-width:4; stroke-opacity:1; fill:none\" points=\"155.765,1486.45 2352.76,1486.45 \"/>\n",
       "<polyline clip-path=\"url(#clip870)\" style=\"stroke:#000000; stroke-linecap:round; stroke-linejoin:round; stroke-width:4; stroke-opacity:1; fill:none\" points=\"217.944,1486.45 217.944,1467.55 \"/>\n",
       "<polyline clip-path=\"url(#clip870)\" style=\"stroke:#000000; stroke-linecap:round; stroke-linejoin:round; stroke-width:4; stroke-opacity:1; fill:none\" points=\"736.102,1486.45 736.102,1467.55 \"/>\n",
       "<polyline clip-path=\"url(#clip870)\" style=\"stroke:#000000; stroke-linecap:round; stroke-linejoin:round; stroke-width:4; stroke-opacity:1; fill:none\" points=\"1254.26,1486.45 1254.26,1467.55 \"/>\n",
       "<polyline clip-path=\"url(#clip870)\" style=\"stroke:#000000; stroke-linecap:round; stroke-linejoin:round; stroke-width:4; stroke-opacity:1; fill:none\" points=\"1772.42,1486.45 1772.42,1467.55 \"/>\n",
       "<polyline clip-path=\"url(#clip870)\" style=\"stroke:#000000; stroke-linecap:round; stroke-linejoin:round; stroke-width:4; stroke-opacity:1; fill:none\" points=\"2290.58,1486.45 2290.58,1467.55 \"/>\n",
       "<path clip-path=\"url(#clip870)\" d=\"M180.247 1517.37 Q176.636 1517.37 174.808 1520.93 Q173.002 1524.47 173.002 1531.6 Q173.002 1538.71 174.808 1542.27 Q176.636 1545.82 180.247 1545.82 Q183.882 1545.82 185.687 1542.27 Q187.516 1538.71 187.516 1531.6 Q187.516 1524.47 185.687 1520.93 Q183.882 1517.37 180.247 1517.37 M180.247 1513.66 Q186.057 1513.66 189.113 1518.27 Q192.192 1522.85 192.192 1531.6 Q192.192 1540.33 189.113 1544.94 Q186.057 1549.52 180.247 1549.52 Q174.437 1549.52 171.358 1544.94 Q168.303 1540.33 168.303 1531.6 Q168.303 1522.85 171.358 1518.27 Q174.437 1513.66 180.247 1513.66 Z\" fill=\"#000000\" fill-rule=\"nonzero\" fill-opacity=\"1\" /><path clip-path=\"url(#clip870)\" d=\"M200.409 1542.97 L205.294 1542.97 L205.294 1548.85 L200.409 1548.85 L200.409 1542.97 Z\" fill=\"#000000\" fill-rule=\"nonzero\" fill-opacity=\"1\" /><path clip-path=\"url(#clip870)\" d=\"M225.479 1517.37 Q221.867 1517.37 220.039 1520.93 Q218.233 1524.47 218.233 1531.6 Q218.233 1538.71 220.039 1542.27 Q221.867 1545.82 225.479 1545.82 Q229.113 1545.82 230.918 1542.27 Q232.747 1538.71 232.747 1531.6 Q232.747 1524.47 230.918 1520.93 Q229.113 1517.37 225.479 1517.37 M225.479 1513.66 Q231.289 1513.66 234.344 1518.27 Q237.423 1522.85 237.423 1531.6 Q237.423 1540.33 234.344 1544.94 Q231.289 1549.52 225.479 1549.52 Q219.668 1549.52 216.59 1544.94 Q213.534 1540.33 213.534 1531.6 Q213.534 1522.85 216.59 1518.27 Q219.668 1513.66 225.479 1513.66 Z\" fill=\"#000000\" fill-rule=\"nonzero\" fill-opacity=\"1\" /><path clip-path=\"url(#clip870)\" d=\"M255.64 1517.37 Q252.029 1517.37 250.201 1520.93 Q248.395 1524.47 248.395 1531.6 Q248.395 1538.71 250.201 1542.27 Q252.029 1545.82 255.64 1545.82 Q259.275 1545.82 261.08 1542.27 Q262.909 1538.71 262.909 1531.6 Q262.909 1524.47 261.08 1520.93 Q259.275 1517.37 255.64 1517.37 M255.64 1513.66 Q261.451 1513.66 264.506 1518.27 Q267.585 1522.85 267.585 1531.6 Q267.585 1540.33 264.506 1544.94 Q261.451 1549.52 255.64 1549.52 Q249.83 1549.52 246.752 1544.94 Q243.696 1540.33 243.696 1531.6 Q243.696 1522.85 246.752 1518.27 Q249.83 1513.66 255.64 1513.66 Z\" fill=\"#000000\" fill-rule=\"nonzero\" fill-opacity=\"1\" /><path clip-path=\"url(#clip870)\" d=\"M698.903 1517.37 Q695.292 1517.37 693.463 1520.93 Q691.658 1524.47 691.658 1531.6 Q691.658 1538.71 693.463 1542.27 Q695.292 1545.82 698.903 1545.82 Q702.538 1545.82 704.343 1542.27 Q706.172 1538.71 706.172 1531.6 Q706.172 1524.47 704.343 1520.93 Q702.538 1517.37 698.903 1517.37 M698.903 1513.66 Q704.713 1513.66 707.769 1518.27 Q710.848 1522.85 710.848 1531.6 Q710.848 1540.33 707.769 1544.94 Q704.713 1549.52 698.903 1549.52 Q693.093 1549.52 690.014 1544.94 Q686.959 1540.33 686.959 1531.6 Q686.959 1522.85 690.014 1518.27 Q693.093 1513.66 698.903 1513.66 Z\" fill=\"#000000\" fill-rule=\"nonzero\" fill-opacity=\"1\" /><path clip-path=\"url(#clip870)\" d=\"M719.065 1542.97 L723.949 1542.97 L723.949 1548.85 L719.065 1548.85 L719.065 1542.97 Z\" fill=\"#000000\" fill-rule=\"nonzero\" fill-opacity=\"1\" /><path clip-path=\"url(#clip870)\" d=\"M738.162 1544.91 L754.482 1544.91 L754.482 1548.85 L732.537 1548.85 L732.537 1544.91 Q735.199 1542.16 739.783 1537.53 Q744.389 1532.88 745.57 1531.53 Q747.815 1529.01 748.695 1527.27 Q749.597 1525.51 749.597 1523.82 Q749.597 1521.07 747.653 1519.33 Q745.732 1517.6 742.63 1517.6 Q740.431 1517.6 737.977 1518.36 Q735.547 1519.13 732.769 1520.68 L732.769 1515.95 Q735.593 1514.82 738.047 1514.24 Q740.5 1513.66 742.537 1513.66 Q747.908 1513.66 751.102 1516.35 Q754.296 1519.03 754.296 1523.52 Q754.296 1525.65 753.486 1527.57 Q752.699 1529.47 750.593 1532.07 Q750.014 1532.74 746.912 1535.95 Q743.81 1539.15 738.162 1544.91 Z\" fill=\"#000000\" fill-rule=\"nonzero\" fill-opacity=\"1\" /><path clip-path=\"url(#clip870)\" d=\"M764.343 1514.29 L782.699 1514.29 L782.699 1518.22 L768.625 1518.22 L768.625 1526.7 Q769.644 1526.35 770.662 1526.19 Q771.681 1526 772.699 1526 Q778.486 1526 781.866 1529.17 Q785.245 1532.34 785.245 1537.76 Q785.245 1543.34 781.773 1546.44 Q778.301 1549.52 771.982 1549.52 Q769.806 1549.52 767.537 1549.15 Q765.292 1548.78 762.884 1548.04 L762.884 1543.34 Q764.968 1544.47 767.19 1545.03 Q769.412 1545.58 771.889 1545.58 Q775.894 1545.58 778.232 1543.48 Q780.57 1541.37 780.57 1537.76 Q780.57 1534.15 778.232 1532.04 Q775.894 1529.94 771.889 1529.94 Q770.014 1529.94 768.139 1530.35 Q766.287 1530.77 764.343 1531.65 L764.343 1514.29 Z\" fill=\"#000000\" fill-rule=\"nonzero\" fill-opacity=\"1\" /><path clip-path=\"url(#clip870)\" d=\"M1216.56 1517.37 Q1212.95 1517.37 1211.12 1520.93 Q1209.32 1524.47 1209.32 1531.6 Q1209.32 1538.71 1211.12 1542.27 Q1212.95 1545.82 1216.56 1545.82 Q1220.2 1545.82 1222 1542.27 Q1223.83 1538.71 1223.83 1531.6 Q1223.83 1524.47 1222 1520.93 Q1220.2 1517.37 1216.56 1517.37 M1216.56 1513.66 Q1222.37 1513.66 1225.43 1518.27 Q1228.51 1522.85 1228.51 1531.6 Q1228.51 1540.33 1225.43 1544.94 Q1222.37 1549.52 1216.56 1549.52 Q1210.75 1549.52 1207.68 1544.94 Q1204.62 1540.33 1204.62 1531.6 Q1204.62 1522.85 1207.68 1518.27 Q1210.75 1513.66 1216.56 1513.66 Z\" fill=\"#000000\" fill-rule=\"nonzero\" fill-opacity=\"1\" /><path clip-path=\"url(#clip870)\" d=\"M1236.73 1542.97 L1241.61 1542.97 L1241.61 1548.85 L1236.73 1548.85 L1236.73 1542.97 Z\" fill=\"#000000\" fill-rule=\"nonzero\" fill-opacity=\"1\" /><path clip-path=\"url(#clip870)\" d=\"M1251.84 1514.29 L1270.2 1514.29 L1270.2 1518.22 L1256.12 1518.22 L1256.12 1526.7 Q1257.14 1526.35 1258.16 1526.19 Q1259.18 1526 1260.2 1526 Q1265.98 1526 1269.36 1529.17 Q1272.74 1532.34 1272.74 1537.76 Q1272.74 1543.34 1269.27 1546.44 Q1265.8 1549.52 1259.48 1549.52 Q1257.3 1549.52 1255.04 1549.15 Q1252.79 1548.78 1250.38 1548.04 L1250.38 1543.34 Q1252.47 1544.47 1254.69 1545.03 Q1256.91 1545.58 1259.39 1545.58 Q1263.39 1545.58 1265.73 1543.48 Q1268.07 1541.37 1268.07 1537.76 Q1268.07 1534.15 1265.73 1532.04 Q1263.39 1529.94 1259.39 1529.94 Q1257.51 1529.94 1255.64 1530.35 Q1253.79 1530.77 1251.84 1531.65 L1251.84 1514.29 Z\" fill=\"#000000\" fill-rule=\"nonzero\" fill-opacity=\"1\" /><path clip-path=\"url(#clip870)\" d=\"M1291.96 1517.37 Q1288.35 1517.37 1286.52 1520.93 Q1284.71 1524.47 1284.71 1531.6 Q1284.71 1538.71 1286.52 1542.27 Q1288.35 1545.82 1291.96 1545.82 Q1295.59 1545.82 1297.4 1542.27 Q1299.23 1538.71 1299.23 1531.6 Q1299.23 1524.47 1297.4 1520.93 Q1295.59 1517.37 1291.96 1517.37 M1291.96 1513.66 Q1297.77 1513.66 1300.82 1518.27 Q1303.9 1522.85 1303.9 1531.6 Q1303.9 1540.33 1300.82 1544.94 Q1297.77 1549.52 1291.96 1549.52 Q1286.15 1549.52 1283.07 1544.94 Q1280.01 1540.33 1280.01 1531.6 Q1280.01 1522.85 1283.07 1518.27 Q1286.15 1513.66 1291.96 1513.66 Z\" fill=\"#000000\" fill-rule=\"nonzero\" fill-opacity=\"1\" /><path clip-path=\"url(#clip870)\" d=\"M1735.22 1517.37 Q1731.61 1517.37 1729.78 1520.93 Q1727.97 1524.47 1727.97 1531.6 Q1727.97 1538.71 1729.78 1542.27 Q1731.61 1545.82 1735.22 1545.82 Q1738.85 1545.82 1740.66 1542.27 Q1742.49 1538.71 1742.49 1531.6 Q1742.49 1524.47 1740.66 1520.93 Q1738.85 1517.37 1735.22 1517.37 M1735.22 1513.66 Q1741.03 1513.66 1744.09 1518.27 Q1747.16 1522.85 1747.16 1531.6 Q1747.16 1540.33 1744.09 1544.94 Q1741.03 1549.52 1735.22 1549.52 Q1729.41 1549.52 1726.33 1544.94 Q1723.28 1540.33 1723.28 1531.6 Q1723.28 1522.85 1726.33 1518.27 Q1729.41 1513.66 1735.22 1513.66 Z\" fill=\"#000000\" fill-rule=\"nonzero\" fill-opacity=\"1\" /><path clip-path=\"url(#clip870)\" d=\"M1755.38 1542.97 L1760.27 1542.97 L1760.27 1548.85 L1755.38 1548.85 L1755.38 1542.97 Z\" fill=\"#000000\" fill-rule=\"nonzero\" fill-opacity=\"1\" /><path clip-path=\"url(#clip870)\" d=\"M1769.27 1514.29 L1791.49 1514.29 L1791.49 1516.28 L1778.95 1548.85 L1774.06 1548.85 L1785.87 1518.22 L1769.27 1518.22 L1769.27 1514.29 Z\" fill=\"#000000\" fill-rule=\"nonzero\" fill-opacity=\"1\" /><path clip-path=\"url(#clip870)\" d=\"M1800.66 1514.29 L1819.02 1514.29 L1819.02 1518.22 L1804.94 1518.22 L1804.94 1526.7 Q1805.96 1526.35 1806.98 1526.19 Q1808 1526 1809.02 1526 Q1814.8 1526 1818.18 1529.17 Q1821.56 1532.34 1821.56 1537.76 Q1821.56 1543.34 1818.09 1546.44 Q1814.62 1549.52 1808.3 1549.52 Q1806.12 1549.52 1803.85 1549.15 Q1801.61 1548.78 1799.2 1548.04 L1799.2 1543.34 Q1801.28 1544.47 1803.51 1545.03 Q1805.73 1545.58 1808.21 1545.58 Q1812.21 1545.58 1814.55 1543.48 Q1816.89 1541.37 1816.89 1537.76 Q1816.89 1534.15 1814.55 1532.04 Q1812.21 1529.94 1808.21 1529.94 Q1806.33 1529.94 1804.46 1530.35 Q1802.6 1530.77 1800.66 1531.65 L1800.66 1514.29 Z\" fill=\"#000000\" fill-rule=\"nonzero\" fill-opacity=\"1\" /><path clip-path=\"url(#clip870)\" d=\"M2242.65 1544.91 L2250.29 1544.91 L2250.29 1518.55 L2241.98 1520.21 L2241.98 1515.95 L2250.24 1514.29 L2254.92 1514.29 L2254.92 1544.91 L2262.56 1544.91 L2262.56 1548.85 L2242.65 1548.85 L2242.65 1544.91 Z\" fill=\"#000000\" fill-rule=\"nonzero\" fill-opacity=\"1\" /><path clip-path=\"url(#clip870)\" d=\"M2272 1542.97 L2276.88 1542.97 L2276.88 1548.85 L2272 1548.85 L2272 1542.97 Z\" fill=\"#000000\" fill-rule=\"nonzero\" fill-opacity=\"1\" /><path clip-path=\"url(#clip870)\" d=\"M2297.07 1517.37 Q2293.46 1517.37 2291.63 1520.93 Q2289.82 1524.47 2289.82 1531.6 Q2289.82 1538.71 2291.63 1542.27 Q2293.46 1545.82 2297.07 1545.82 Q2300.7 1545.82 2302.51 1542.27 Q2304.34 1538.71 2304.34 1531.6 Q2304.34 1524.47 2302.51 1520.93 Q2300.7 1517.37 2297.07 1517.37 M2297.07 1513.66 Q2302.88 1513.66 2305.94 1518.27 Q2309.01 1522.85 2309.01 1531.6 Q2309.01 1540.33 2305.94 1544.94 Q2302.88 1549.52 2297.07 1549.52 Q2291.26 1549.52 2288.18 1544.94 Q2285.13 1540.33 2285.13 1531.6 Q2285.13 1522.85 2288.18 1518.27 Q2291.26 1513.66 2297.07 1513.66 Z\" fill=\"#000000\" fill-rule=\"nonzero\" fill-opacity=\"1\" /><path clip-path=\"url(#clip870)\" d=\"M2327.23 1517.37 Q2323.62 1517.37 2321.79 1520.93 Q2319.99 1524.47 2319.99 1531.6 Q2319.99 1538.71 2321.79 1542.27 Q2323.62 1545.82 2327.23 1545.82 Q2330.87 1545.82 2332.67 1542.27 Q2334.5 1538.71 2334.5 1531.6 Q2334.5 1524.47 2332.67 1520.93 Q2330.87 1517.37 2327.23 1517.37 M2327.23 1513.66 Q2333.04 1513.66 2336.1 1518.27 Q2339.18 1522.85 2339.18 1531.6 Q2339.18 1540.33 2336.1 1544.94 Q2333.04 1549.52 2327.23 1549.52 Q2321.42 1549.52 2318.34 1544.94 Q2315.29 1540.33 2315.29 1531.6 Q2315.29 1522.85 2318.34 1518.27 Q2321.42 1513.66 2327.23 1513.66 Z\" fill=\"#000000\" fill-rule=\"nonzero\" fill-opacity=\"1\" /><polyline clip-path=\"url(#clip870)\" style=\"stroke:#000000; stroke-linecap:round; stroke-linejoin:round; stroke-width:4; stroke-opacity:1; fill:none\" points=\"155.765,1486.45 155.765,47.2441 \"/>\n",
       "<polyline clip-path=\"url(#clip870)\" style=\"stroke:#000000; stroke-linecap:round; stroke-linejoin:round; stroke-width:4; stroke-opacity:1; fill:none\" points=\"155.765,1265.66 174.663,1265.66 \"/>\n",
       "<polyline clip-path=\"url(#clip870)\" style=\"stroke:#000000; stroke-linecap:round; stroke-linejoin:round; stroke-width:4; stroke-opacity:1; fill:none\" points=\"155.765,873.101 174.663,873.101 \"/>\n",
       "<polyline clip-path=\"url(#clip870)\" style=\"stroke:#000000; stroke-linecap:round; stroke-linejoin:round; stroke-width:4; stroke-opacity:1; fill:none\" points=\"155.765,480.539 174.663,480.539 \"/>\n",
       "<polyline clip-path=\"url(#clip870)\" style=\"stroke:#000000; stroke-linecap:round; stroke-linejoin:round; stroke-width:4; stroke-opacity:1; fill:none\" points=\"155.765,87.9763 174.663,87.9763 \"/>\n",
       "<path clip-path=\"url(#clip870)\" d=\"M63.5847 1251.46 Q59.9736 1251.46 58.1449 1255.03 Q56.3393 1258.57 56.3393 1265.7 Q56.3393 1272.8 58.1449 1276.37 Q59.9736 1279.91 63.5847 1279.91 Q67.2189 1279.91 69.0244 1276.37 Q70.8531 1272.8 70.8531 1265.7 Q70.8531 1258.57 69.0244 1255.03 Q67.2189 1251.46 63.5847 1251.46 M63.5847 1247.76 Q69.3948 1247.76 72.4503 1252.36 Q75.529 1256.95 75.529 1265.7 Q75.529 1274.42 72.4503 1279.03 Q69.3948 1283.61 63.5847 1283.61 Q57.7745 1283.61 54.6958 1279.03 Q51.6403 1274.42 51.6403 1265.7 Q51.6403 1256.95 54.6958 1252.36 Q57.7745 1247.76 63.5847 1247.76 Z\" fill=\"#000000\" fill-rule=\"nonzero\" fill-opacity=\"1\" /><path clip-path=\"url(#clip870)\" d=\"M83.7466 1277.06 L88.6308 1277.06 L88.6308 1282.94 L83.7466 1282.94 L83.7466 1277.06 Z\" fill=\"#000000\" fill-rule=\"nonzero\" fill-opacity=\"1\" /><path clip-path=\"url(#clip870)\" d=\"M98.8622 1248.38 L117.219 1248.38 L117.219 1252.32 L103.145 1252.32 L103.145 1260.79 Q104.163 1260.44 105.182 1260.28 Q106.2 1260.1 107.219 1260.1 Q113.006 1260.1 116.385 1263.27 Q119.765 1266.44 119.765 1271.86 Q119.765 1277.43 116.293 1280.54 Q112.82 1283.61 106.501 1283.61 Q104.325 1283.61 102.057 1283.24 Q99.8113 1282.87 97.4039 1282.13 L97.4039 1277.43 Q99.4872 1278.57 101.709 1279.12 Q103.932 1279.68 106.408 1279.68 Q110.413 1279.68 112.751 1277.57 Q115.089 1275.47 115.089 1271.86 Q115.089 1268.24 112.751 1266.14 Q110.413 1264.03 106.408 1264.03 Q104.534 1264.03 102.659 1264.45 Q100.807 1264.86 98.8622 1265.74 L98.8622 1248.38 Z\" fill=\"#000000\" fill-rule=\"nonzero\" fill-opacity=\"1\" /><path clip-path=\"url(#clip870)\" d=\"M53.3995 886.446 L61.0384 886.446 L61.0384 860.08 L52.7282 861.747 L52.7282 857.488 L60.9921 855.821 L65.668 855.821 L65.668 886.446 L73.3068 886.446 L73.3068 890.381 L53.3995 890.381 L53.3995 886.446 Z\" fill=\"#000000\" fill-rule=\"nonzero\" fill-opacity=\"1\" /><path clip-path=\"url(#clip870)\" d=\"M82.7512 884.501 L87.6354 884.501 L87.6354 890.381 L82.7512 890.381 L82.7512 884.501 Z\" fill=\"#000000\" fill-rule=\"nonzero\" fill-opacity=\"1\" /><path clip-path=\"url(#clip870)\" d=\"M107.821 858.9 Q104.209 858.9 102.381 862.465 Q100.575 866.006 100.575 873.136 Q100.575 880.242 102.381 883.807 Q104.209 887.349 107.821 887.349 Q111.455 887.349 113.26 883.807 Q115.089 880.242 115.089 873.136 Q115.089 866.006 113.26 862.465 Q111.455 858.9 107.821 858.9 M107.821 855.196 Q113.631 855.196 116.686 859.803 Q119.765 864.386 119.765 873.136 Q119.765 881.863 116.686 886.469 Q113.631 891.052 107.821 891.052 Q102.01 891.052 98.9317 886.469 Q95.8761 881.863 95.8761 873.136 Q95.8761 864.386 98.9317 859.803 Q102.01 855.196 107.821 855.196 Z\" fill=\"#000000\" fill-rule=\"nonzero\" fill-opacity=\"1\" /><path clip-path=\"url(#clip870)\" d=\"M54.3949 493.884 L62.0337 493.884 L62.0337 467.518 L53.7236 469.185 L53.7236 464.925 L61.9874 463.259 L66.6633 463.259 L66.6633 493.884 L74.3022 493.884 L74.3022 497.819 L54.3949 497.819 L54.3949 493.884 Z\" fill=\"#000000\" fill-rule=\"nonzero\" fill-opacity=\"1\" /><path clip-path=\"url(#clip870)\" d=\"M83.7466 491.939 L88.6308 491.939 L88.6308 497.819 L83.7466 497.819 L83.7466 491.939 Z\" fill=\"#000000\" fill-rule=\"nonzero\" fill-opacity=\"1\" /><path clip-path=\"url(#clip870)\" d=\"M98.8622 463.259 L117.219 463.259 L117.219 467.194 L103.145 467.194 L103.145 475.666 Q104.163 475.319 105.182 475.157 Q106.2 474.972 107.219 474.972 Q113.006 474.972 116.385 478.143 Q119.765 481.314 119.765 486.731 Q119.765 492.309 116.293 495.411 Q112.82 498.49 106.501 498.49 Q104.325 498.49 102.057 498.12 Q99.8113 497.749 97.4039 497.008 L97.4039 492.309 Q99.4872 493.444 101.709 493.999 Q103.932 494.555 106.408 494.555 Q110.413 494.555 112.751 492.448 Q115.089 490.342 115.089 486.731 Q115.089 483.12 112.751 481.013 Q110.413 478.907 106.408 478.907 Q104.534 478.907 102.659 479.323 Q100.807 479.74 98.8622 480.62 L98.8622 463.259 Z\" fill=\"#000000\" fill-rule=\"nonzero\" fill-opacity=\"1\" /><path clip-path=\"url(#clip870)\" d=\"M56.6171 101.321 L72.9365 101.321 L72.9365 105.256 L50.9921 105.256 L50.9921 101.321 Q53.6541 98.5665 58.2375 93.9369 Q62.8439 89.2841 64.0245 87.9416 Q66.2698 85.4184 67.1494 83.6823 Q68.0522 81.9231 68.0522 80.2333 Q68.0522 77.4786 66.1078 75.7425 Q64.1865 74.0064 61.0847 74.0064 Q58.8856 74.0064 56.4319 74.7703 Q54.0014 75.5342 51.2236 77.0851 L51.2236 72.3629 Q54.0477 71.2287 56.5014 70.65 Q58.955 70.0713 60.9921 70.0713 Q66.3624 70.0713 69.5568 72.7565 Q72.7513 75.4416 72.7513 79.9323 Q72.7513 82.062 71.9411 83.9832 Q71.1541 85.8814 69.0476 88.474 Q68.4689 89.1453 65.367 92.3628 Q62.2652 95.5573 56.6171 101.321 Z\" fill=\"#000000\" fill-rule=\"nonzero\" fill-opacity=\"1\" /><path clip-path=\"url(#clip870)\" d=\"M82.7512 99.3767 L87.6354 99.3767 L87.6354 105.256 L82.7512 105.256 L82.7512 99.3767 Z\" fill=\"#000000\" fill-rule=\"nonzero\" fill-opacity=\"1\" /><path clip-path=\"url(#clip870)\" d=\"M107.821 73.775 Q104.209 73.775 102.381 77.3398 Q100.575 80.8814 100.575 88.011 Q100.575 95.1174 102.381 98.6822 Q104.209 102.224 107.821 102.224 Q111.455 102.224 113.26 98.6822 Q115.089 95.1174 115.089 88.011 Q115.089 80.8814 113.26 77.3398 Q111.455 73.775 107.821 73.775 M107.821 70.0713 Q113.631 70.0713 116.686 74.6777 Q119.765 79.261 119.765 88.011 Q119.765 96.7378 116.686 101.344 Q113.631 105.928 107.821 105.928 Q102.01 105.928 98.9317 101.344 Q95.8761 96.7378 95.8761 88.011 Q95.8761 79.261 98.9317 74.6777 Q102.01 70.0713 107.821 70.0713 Z\" fill=\"#000000\" fill-rule=\"nonzero\" fill-opacity=\"1\" /><circle clip-path=\"url(#clip872)\" cx=\"217.944\" cy=\"87.9763\" r=\"14.4\" fill=\"#009af9\" fill-rule=\"evenodd\" fill-opacity=\"1\" stroke=\"#000000\" stroke-opacity=\"1\" stroke-width=\"3.2\"/>\n",
       "<circle clip-path=\"url(#clip872)\" cx=\"425.207\" cy=\"372.614\" r=\"14.4\" fill=\"#009af9\" fill-rule=\"evenodd\" fill-opacity=\"1\" stroke=\"#000000\" stroke-opacity=\"1\" stroke-width=\"3.2\"/>\n",
       "<circle clip-path=\"url(#clip872)\" cx=\"632.47\" cy=\"605.656\" r=\"14.4\" fill=\"#009af9\" fill-rule=\"evenodd\" fill-opacity=\"1\" stroke=\"#000000\" stroke-opacity=\"1\" stroke-width=\"3.2\"/>\n",
       "<circle clip-path=\"url(#clip872)\" cx=\"839.734\" cy=\"796.455\" r=\"14.4\" fill=\"#009af9\" fill-rule=\"evenodd\" fill-opacity=\"1\" stroke=\"#000000\" stroke-opacity=\"1\" stroke-width=\"3.2\"/>\n",
       "<circle clip-path=\"url(#clip872)\" cx=\"1047\" cy=\"952.667\" r=\"14.4\" fill=\"#009af9\" fill-rule=\"evenodd\" fill-opacity=\"1\" stroke=\"#000000\" stroke-opacity=\"1\" stroke-width=\"3.2\"/>\n",
       "<circle clip-path=\"url(#clip872)\" cx=\"1254.26\" cy=\"1080.56\" r=\"14.4\" fill=\"#009af9\" fill-rule=\"evenodd\" fill-opacity=\"1\" stroke=\"#000000\" stroke-opacity=\"1\" stroke-width=\"3.2\"/>\n",
       "<circle clip-path=\"url(#clip872)\" cx=\"1461.52\" cy=\"1185.28\" r=\"14.4\" fill=\"#009af9\" fill-rule=\"evenodd\" fill-opacity=\"1\" stroke=\"#000000\" stroke-opacity=\"1\" stroke-width=\"3.2\"/>\n",
       "<circle clip-path=\"url(#clip872)\" cx=\"1668.79\" cy=\"1271.01\" r=\"14.4\" fill=\"#009af9\" fill-rule=\"evenodd\" fill-opacity=\"1\" stroke=\"#000000\" stroke-opacity=\"1\" stroke-width=\"3.2\"/>\n",
       "<circle clip-path=\"url(#clip872)\" cx=\"1876.05\" cy=\"1341.2\" r=\"14.4\" fill=\"#009af9\" fill-rule=\"evenodd\" fill-opacity=\"1\" stroke=\"#000000\" stroke-opacity=\"1\" stroke-width=\"3.2\"/>\n",
       "<circle clip-path=\"url(#clip872)\" cx=\"2083.31\" cy=\"1398.67\" r=\"14.4\" fill=\"#009af9\" fill-rule=\"evenodd\" fill-opacity=\"1\" stroke=\"#000000\" stroke-opacity=\"1\" stroke-width=\"3.2\"/>\n",
       "<circle clip-path=\"url(#clip872)\" cx=\"2290.58\" cy=\"1445.72\" r=\"14.4\" fill=\"#009af9\" fill-rule=\"evenodd\" fill-opacity=\"1\" stroke=\"#000000\" stroke-opacity=\"1\" stroke-width=\"3.2\"/>\n",
       "<path clip-path=\"url(#clip870)\" d=\"M2007.39 198.898 L2279.52 198.898 L2279.52 95.2176 L2007.39 95.2176  Z\" fill=\"#ffffff\" fill-rule=\"evenodd\" fill-opacity=\"1\"/>\n",
       "<polyline clip-path=\"url(#clip870)\" style=\"stroke:#000000; stroke-linecap:round; stroke-linejoin:round; stroke-width:4; stroke-opacity:1; fill:none\" points=\"2007.39,198.898 2279.52,198.898 2279.52,95.2176 2007.39,95.2176 2007.39,198.898 \"/>\n",
       "<circle clip-path=\"url(#clip870)\" cx=\"2105.04\" cy=\"147.058\" r=\"20.48\" fill=\"#009af9\" fill-rule=\"evenodd\" fill-opacity=\"1\" stroke=\"#000000\" stroke-opacity=\"1\" stroke-width=\"4.55111\"/>\n",
       "<path clip-path=\"url(#clip870)\" d=\"M2216.52 166.745 Q2214.72 171.375 2213.01 172.787 Q2211.29 174.199 2208.42 174.199 L2205.02 174.199 L2205.02 170.634 L2207.52 170.634 Q2209.28 170.634 2210.25 169.8 Q2211.22 168.967 2212.4 165.865 L2213.17 163.921 L2202.68 138.412 L2207.2 138.412 L2215.3 158.689 L2223.4 138.412 L2227.91 138.412 L2216.52 166.745 Z\" fill=\"#000000\" fill-rule=\"nonzero\" fill-opacity=\"1\" /><path clip-path=\"url(#clip870)\" d=\"M2235.2 160.402 L2242.84 160.402 L2242.84 134.037 L2234.53 135.703 L2234.53 131.444 L2242.8 129.778 L2247.47 129.778 L2247.47 160.402 L2255.11 160.402 L2255.11 164.338 L2235.2 164.338 L2235.2 160.402 Z\" fill=\"#000000\" fill-rule=\"nonzero\" fill-opacity=\"1\" /></svg>\n"
      ],
      "text/html": [
       "<?xml version=\"1.0\" encoding=\"utf-8\"?>\n",
       "<svg xmlns=\"http://www.w3.org/2000/svg\" xmlns:xlink=\"http://www.w3.org/1999/xlink\" width=\"600\" height=\"400\" viewBox=\"0 0 2400 1600\">\n",
       "<defs>\n",
       "  <clipPath id=\"clip920\">\n",
       "    <rect x=\"0\" y=\"0\" width=\"2400\" height=\"1600\"/>\n",
       "  </clipPath>\n",
       "</defs>\n",
       "<path clip-path=\"url(#clip920)\" d=\"M0 1600 L2400 1600 L2400 8.88178e-14 L0 8.88178e-14  Z\" fill=\"#ffffff\" fill-rule=\"evenodd\" fill-opacity=\"1\"/>\n",
       "<defs>\n",
       "  <clipPath id=\"clip921\">\n",
       "    <rect x=\"480\" y=\"0\" width=\"1681\" height=\"1600\"/>\n",
       "  </clipPath>\n",
       "</defs>\n",
       "<path clip-path=\"url(#clip920)\" d=\"M155.765 1486.45 L2352.76 1486.45 L2352.76 47.2441 L155.765 47.2441  Z\" fill=\"#ffffff\" fill-rule=\"evenodd\" fill-opacity=\"1\"/>\n",
       "<defs>\n",
       "  <clipPath id=\"clip922\">\n",
       "    <rect x=\"155\" y=\"47\" width=\"2198\" height=\"1440\"/>\n",
       "  </clipPath>\n",
       "</defs>\n",
       "<polyline clip-path=\"url(#clip922)\" style=\"stroke:#000000; stroke-linecap:round; stroke-linejoin:round; stroke-width:2; stroke-opacity:0.1; fill:none\" points=\"217.944,1486.45 217.944,47.2441 \"/>\n",
       "<polyline clip-path=\"url(#clip922)\" style=\"stroke:#000000; stroke-linecap:round; stroke-linejoin:round; stroke-width:2; stroke-opacity:0.1; fill:none\" points=\"736.102,1486.45 736.102,47.2441 \"/>\n",
       "<polyline clip-path=\"url(#clip922)\" style=\"stroke:#000000; stroke-linecap:round; stroke-linejoin:round; stroke-width:2; stroke-opacity:0.1; fill:none\" points=\"1254.26,1486.45 1254.26,47.2441 \"/>\n",
       "<polyline clip-path=\"url(#clip922)\" style=\"stroke:#000000; stroke-linecap:round; stroke-linejoin:round; stroke-width:2; stroke-opacity:0.1; fill:none\" points=\"1772.42,1486.45 1772.42,47.2441 \"/>\n",
       "<polyline clip-path=\"url(#clip922)\" style=\"stroke:#000000; stroke-linecap:round; stroke-linejoin:round; stroke-width:2; stroke-opacity:0.1; fill:none\" points=\"2290.58,1486.45 2290.58,47.2441 \"/>\n",
       "<polyline clip-path=\"url(#clip922)\" style=\"stroke:#000000; stroke-linecap:round; stroke-linejoin:round; stroke-width:2; stroke-opacity:0.1; fill:none\" points=\"155.765,1265.66 2352.76,1265.66 \"/>\n",
       "<polyline clip-path=\"url(#clip922)\" style=\"stroke:#000000; stroke-linecap:round; stroke-linejoin:round; stroke-width:2; stroke-opacity:0.1; fill:none\" points=\"155.765,873.101 2352.76,873.101 \"/>\n",
       "<polyline clip-path=\"url(#clip922)\" style=\"stroke:#000000; stroke-linecap:round; stroke-linejoin:round; stroke-width:2; stroke-opacity:0.1; fill:none\" points=\"155.765,480.539 2352.76,480.539 \"/>\n",
       "<polyline clip-path=\"url(#clip922)\" style=\"stroke:#000000; stroke-linecap:round; stroke-linejoin:round; stroke-width:2; stroke-opacity:0.1; fill:none\" points=\"155.765,87.9763 2352.76,87.9763 \"/>\n",
       "<polyline clip-path=\"url(#clip920)\" style=\"stroke:#000000; stroke-linecap:round; stroke-linejoin:round; stroke-width:4; stroke-opacity:1; fill:none\" points=\"155.765,1486.45 2352.76,1486.45 \"/>\n",
       "<polyline clip-path=\"url(#clip920)\" style=\"stroke:#000000; stroke-linecap:round; stroke-linejoin:round; stroke-width:4; stroke-opacity:1; fill:none\" points=\"217.944,1486.45 217.944,1467.55 \"/>\n",
       "<polyline clip-path=\"url(#clip920)\" style=\"stroke:#000000; stroke-linecap:round; stroke-linejoin:round; stroke-width:4; stroke-opacity:1; fill:none\" points=\"736.102,1486.45 736.102,1467.55 \"/>\n",
       "<polyline clip-path=\"url(#clip920)\" style=\"stroke:#000000; stroke-linecap:round; stroke-linejoin:round; stroke-width:4; stroke-opacity:1; fill:none\" points=\"1254.26,1486.45 1254.26,1467.55 \"/>\n",
       "<polyline clip-path=\"url(#clip920)\" style=\"stroke:#000000; stroke-linecap:round; stroke-linejoin:round; stroke-width:4; stroke-opacity:1; fill:none\" points=\"1772.42,1486.45 1772.42,1467.55 \"/>\n",
       "<polyline clip-path=\"url(#clip920)\" style=\"stroke:#000000; stroke-linecap:round; stroke-linejoin:round; stroke-width:4; stroke-opacity:1; fill:none\" points=\"2290.58,1486.45 2290.58,1467.55 \"/>\n",
       "<path clip-path=\"url(#clip920)\" d=\"M180.247 1517.37 Q176.636 1517.37 174.808 1520.93 Q173.002 1524.47 173.002 1531.6 Q173.002 1538.71 174.808 1542.27 Q176.636 1545.82 180.247 1545.82 Q183.882 1545.82 185.687 1542.27 Q187.516 1538.71 187.516 1531.6 Q187.516 1524.47 185.687 1520.93 Q183.882 1517.37 180.247 1517.37 M180.247 1513.66 Q186.057 1513.66 189.113 1518.27 Q192.192 1522.85 192.192 1531.6 Q192.192 1540.33 189.113 1544.94 Q186.057 1549.52 180.247 1549.52 Q174.437 1549.52 171.358 1544.94 Q168.303 1540.33 168.303 1531.6 Q168.303 1522.85 171.358 1518.27 Q174.437 1513.66 180.247 1513.66 Z\" fill=\"#000000\" fill-rule=\"nonzero\" fill-opacity=\"1\" /><path clip-path=\"url(#clip920)\" d=\"M200.409 1542.97 L205.294 1542.97 L205.294 1548.85 L200.409 1548.85 L200.409 1542.97 Z\" fill=\"#000000\" fill-rule=\"nonzero\" fill-opacity=\"1\" /><path clip-path=\"url(#clip920)\" d=\"M225.479 1517.37 Q221.867 1517.37 220.039 1520.93 Q218.233 1524.47 218.233 1531.6 Q218.233 1538.71 220.039 1542.27 Q221.867 1545.82 225.479 1545.82 Q229.113 1545.82 230.918 1542.27 Q232.747 1538.71 232.747 1531.6 Q232.747 1524.47 230.918 1520.93 Q229.113 1517.37 225.479 1517.37 M225.479 1513.66 Q231.289 1513.66 234.344 1518.27 Q237.423 1522.85 237.423 1531.6 Q237.423 1540.33 234.344 1544.94 Q231.289 1549.52 225.479 1549.52 Q219.668 1549.52 216.59 1544.94 Q213.534 1540.33 213.534 1531.6 Q213.534 1522.85 216.59 1518.27 Q219.668 1513.66 225.479 1513.66 Z\" fill=\"#000000\" fill-rule=\"nonzero\" fill-opacity=\"1\" /><path clip-path=\"url(#clip920)\" d=\"M255.64 1517.37 Q252.029 1517.37 250.201 1520.93 Q248.395 1524.47 248.395 1531.6 Q248.395 1538.71 250.201 1542.27 Q252.029 1545.82 255.64 1545.82 Q259.275 1545.82 261.08 1542.27 Q262.909 1538.71 262.909 1531.6 Q262.909 1524.47 261.08 1520.93 Q259.275 1517.37 255.64 1517.37 M255.64 1513.66 Q261.451 1513.66 264.506 1518.27 Q267.585 1522.85 267.585 1531.6 Q267.585 1540.33 264.506 1544.94 Q261.451 1549.52 255.64 1549.52 Q249.83 1549.52 246.752 1544.94 Q243.696 1540.33 243.696 1531.6 Q243.696 1522.85 246.752 1518.27 Q249.83 1513.66 255.64 1513.66 Z\" fill=\"#000000\" fill-rule=\"nonzero\" fill-opacity=\"1\" /><path clip-path=\"url(#clip920)\" d=\"M698.903 1517.37 Q695.292 1517.37 693.463 1520.93 Q691.658 1524.47 691.658 1531.6 Q691.658 1538.71 693.463 1542.27 Q695.292 1545.82 698.903 1545.82 Q702.538 1545.82 704.343 1542.27 Q706.172 1538.71 706.172 1531.6 Q706.172 1524.47 704.343 1520.93 Q702.538 1517.37 698.903 1517.37 M698.903 1513.66 Q704.713 1513.66 707.769 1518.27 Q710.848 1522.85 710.848 1531.6 Q710.848 1540.33 707.769 1544.94 Q704.713 1549.52 698.903 1549.52 Q693.093 1549.52 690.014 1544.94 Q686.959 1540.33 686.959 1531.6 Q686.959 1522.85 690.014 1518.27 Q693.093 1513.66 698.903 1513.66 Z\" fill=\"#000000\" fill-rule=\"nonzero\" fill-opacity=\"1\" /><path clip-path=\"url(#clip920)\" d=\"M719.065 1542.97 L723.949 1542.97 L723.949 1548.85 L719.065 1548.85 L719.065 1542.97 Z\" fill=\"#000000\" fill-rule=\"nonzero\" fill-opacity=\"1\" /><path clip-path=\"url(#clip920)\" d=\"M738.162 1544.91 L754.482 1544.91 L754.482 1548.85 L732.537 1548.85 L732.537 1544.91 Q735.199 1542.16 739.783 1537.53 Q744.389 1532.88 745.57 1531.53 Q747.815 1529.01 748.695 1527.27 Q749.597 1525.51 749.597 1523.82 Q749.597 1521.07 747.653 1519.33 Q745.732 1517.6 742.63 1517.6 Q740.431 1517.6 737.977 1518.36 Q735.547 1519.13 732.769 1520.68 L732.769 1515.95 Q735.593 1514.82 738.047 1514.24 Q740.5 1513.66 742.537 1513.66 Q747.908 1513.66 751.102 1516.35 Q754.296 1519.03 754.296 1523.52 Q754.296 1525.65 753.486 1527.57 Q752.699 1529.47 750.593 1532.07 Q750.014 1532.74 746.912 1535.95 Q743.81 1539.15 738.162 1544.91 Z\" fill=\"#000000\" fill-rule=\"nonzero\" fill-opacity=\"1\" /><path clip-path=\"url(#clip920)\" d=\"M764.343 1514.29 L782.699 1514.29 L782.699 1518.22 L768.625 1518.22 L768.625 1526.7 Q769.644 1526.35 770.662 1526.19 Q771.681 1526 772.699 1526 Q778.486 1526 781.866 1529.17 Q785.245 1532.34 785.245 1537.76 Q785.245 1543.34 781.773 1546.44 Q778.301 1549.52 771.982 1549.52 Q769.806 1549.52 767.537 1549.15 Q765.292 1548.78 762.884 1548.04 L762.884 1543.34 Q764.968 1544.47 767.19 1545.03 Q769.412 1545.58 771.889 1545.58 Q775.894 1545.58 778.232 1543.48 Q780.57 1541.37 780.57 1537.76 Q780.57 1534.15 778.232 1532.04 Q775.894 1529.94 771.889 1529.94 Q770.014 1529.94 768.139 1530.35 Q766.287 1530.77 764.343 1531.65 L764.343 1514.29 Z\" fill=\"#000000\" fill-rule=\"nonzero\" fill-opacity=\"1\" /><path clip-path=\"url(#clip920)\" d=\"M1216.56 1517.37 Q1212.95 1517.37 1211.12 1520.93 Q1209.32 1524.47 1209.32 1531.6 Q1209.32 1538.71 1211.12 1542.27 Q1212.95 1545.82 1216.56 1545.82 Q1220.2 1545.82 1222 1542.27 Q1223.83 1538.71 1223.83 1531.6 Q1223.83 1524.47 1222 1520.93 Q1220.2 1517.37 1216.56 1517.37 M1216.56 1513.66 Q1222.37 1513.66 1225.43 1518.27 Q1228.51 1522.85 1228.51 1531.6 Q1228.51 1540.33 1225.43 1544.94 Q1222.37 1549.52 1216.56 1549.52 Q1210.75 1549.52 1207.68 1544.94 Q1204.62 1540.33 1204.62 1531.6 Q1204.62 1522.85 1207.68 1518.27 Q1210.75 1513.66 1216.56 1513.66 Z\" fill=\"#000000\" fill-rule=\"nonzero\" fill-opacity=\"1\" /><path clip-path=\"url(#clip920)\" d=\"M1236.73 1542.97 L1241.61 1542.97 L1241.61 1548.85 L1236.73 1548.85 L1236.73 1542.97 Z\" fill=\"#000000\" fill-rule=\"nonzero\" fill-opacity=\"1\" /><path clip-path=\"url(#clip920)\" d=\"M1251.84 1514.29 L1270.2 1514.29 L1270.2 1518.22 L1256.12 1518.22 L1256.12 1526.7 Q1257.14 1526.35 1258.16 1526.19 Q1259.18 1526 1260.2 1526 Q1265.98 1526 1269.36 1529.17 Q1272.74 1532.34 1272.74 1537.76 Q1272.74 1543.34 1269.27 1546.44 Q1265.8 1549.52 1259.48 1549.52 Q1257.3 1549.52 1255.04 1549.15 Q1252.79 1548.78 1250.38 1548.04 L1250.38 1543.34 Q1252.47 1544.47 1254.69 1545.03 Q1256.91 1545.58 1259.39 1545.58 Q1263.39 1545.58 1265.73 1543.48 Q1268.07 1541.37 1268.07 1537.76 Q1268.07 1534.15 1265.73 1532.04 Q1263.39 1529.94 1259.39 1529.94 Q1257.51 1529.94 1255.64 1530.35 Q1253.79 1530.77 1251.84 1531.65 L1251.84 1514.29 Z\" fill=\"#000000\" fill-rule=\"nonzero\" fill-opacity=\"1\" /><path clip-path=\"url(#clip920)\" d=\"M1291.96 1517.37 Q1288.35 1517.37 1286.52 1520.93 Q1284.71 1524.47 1284.71 1531.6 Q1284.71 1538.71 1286.52 1542.27 Q1288.35 1545.82 1291.96 1545.82 Q1295.59 1545.82 1297.4 1542.27 Q1299.23 1538.71 1299.23 1531.6 Q1299.23 1524.47 1297.4 1520.93 Q1295.59 1517.37 1291.96 1517.37 M1291.96 1513.66 Q1297.77 1513.66 1300.82 1518.27 Q1303.9 1522.85 1303.9 1531.6 Q1303.9 1540.33 1300.82 1544.94 Q1297.77 1549.52 1291.96 1549.52 Q1286.15 1549.52 1283.07 1544.94 Q1280.01 1540.33 1280.01 1531.6 Q1280.01 1522.85 1283.07 1518.27 Q1286.15 1513.66 1291.96 1513.66 Z\" fill=\"#000000\" fill-rule=\"nonzero\" fill-opacity=\"1\" /><path clip-path=\"url(#clip920)\" d=\"M1735.22 1517.37 Q1731.61 1517.37 1729.78 1520.93 Q1727.97 1524.47 1727.97 1531.6 Q1727.97 1538.71 1729.78 1542.27 Q1731.61 1545.82 1735.22 1545.82 Q1738.85 1545.82 1740.66 1542.27 Q1742.49 1538.71 1742.49 1531.6 Q1742.49 1524.47 1740.66 1520.93 Q1738.85 1517.37 1735.22 1517.37 M1735.22 1513.66 Q1741.03 1513.66 1744.09 1518.27 Q1747.16 1522.85 1747.16 1531.6 Q1747.16 1540.33 1744.09 1544.94 Q1741.03 1549.52 1735.22 1549.52 Q1729.41 1549.52 1726.33 1544.94 Q1723.28 1540.33 1723.28 1531.6 Q1723.28 1522.85 1726.33 1518.27 Q1729.41 1513.66 1735.22 1513.66 Z\" fill=\"#000000\" fill-rule=\"nonzero\" fill-opacity=\"1\" /><path clip-path=\"url(#clip920)\" d=\"M1755.38 1542.97 L1760.27 1542.97 L1760.27 1548.85 L1755.38 1548.85 L1755.38 1542.97 Z\" fill=\"#000000\" fill-rule=\"nonzero\" fill-opacity=\"1\" /><path clip-path=\"url(#clip920)\" d=\"M1769.27 1514.29 L1791.49 1514.29 L1791.49 1516.28 L1778.95 1548.85 L1774.06 1548.85 L1785.87 1518.22 L1769.27 1518.22 L1769.27 1514.29 Z\" fill=\"#000000\" fill-rule=\"nonzero\" fill-opacity=\"1\" /><path clip-path=\"url(#clip920)\" d=\"M1800.66 1514.29 L1819.02 1514.29 L1819.02 1518.22 L1804.94 1518.22 L1804.94 1526.7 Q1805.96 1526.35 1806.98 1526.19 Q1808 1526 1809.02 1526 Q1814.8 1526 1818.18 1529.17 Q1821.56 1532.34 1821.56 1537.76 Q1821.56 1543.34 1818.09 1546.44 Q1814.62 1549.52 1808.3 1549.52 Q1806.12 1549.52 1803.85 1549.15 Q1801.61 1548.78 1799.2 1548.04 L1799.2 1543.34 Q1801.28 1544.47 1803.51 1545.03 Q1805.73 1545.58 1808.21 1545.58 Q1812.21 1545.58 1814.55 1543.48 Q1816.89 1541.37 1816.89 1537.76 Q1816.89 1534.15 1814.55 1532.04 Q1812.21 1529.94 1808.21 1529.94 Q1806.33 1529.94 1804.46 1530.35 Q1802.6 1530.77 1800.66 1531.65 L1800.66 1514.29 Z\" fill=\"#000000\" fill-rule=\"nonzero\" fill-opacity=\"1\" /><path clip-path=\"url(#clip920)\" d=\"M2242.65 1544.91 L2250.29 1544.91 L2250.29 1518.55 L2241.98 1520.21 L2241.98 1515.95 L2250.24 1514.29 L2254.92 1514.29 L2254.92 1544.91 L2262.56 1544.91 L2262.56 1548.85 L2242.65 1548.85 L2242.65 1544.91 Z\" fill=\"#000000\" fill-rule=\"nonzero\" fill-opacity=\"1\" /><path clip-path=\"url(#clip920)\" d=\"M2272 1542.97 L2276.88 1542.97 L2276.88 1548.85 L2272 1548.85 L2272 1542.97 Z\" fill=\"#000000\" fill-rule=\"nonzero\" fill-opacity=\"1\" /><path clip-path=\"url(#clip920)\" d=\"M2297.07 1517.37 Q2293.46 1517.37 2291.63 1520.93 Q2289.82 1524.47 2289.82 1531.6 Q2289.82 1538.71 2291.63 1542.27 Q2293.46 1545.82 2297.07 1545.82 Q2300.7 1545.82 2302.51 1542.27 Q2304.34 1538.71 2304.34 1531.6 Q2304.34 1524.47 2302.51 1520.93 Q2300.7 1517.37 2297.07 1517.37 M2297.07 1513.66 Q2302.88 1513.66 2305.94 1518.27 Q2309.01 1522.85 2309.01 1531.6 Q2309.01 1540.33 2305.94 1544.94 Q2302.88 1549.52 2297.07 1549.52 Q2291.26 1549.52 2288.18 1544.94 Q2285.13 1540.33 2285.13 1531.6 Q2285.13 1522.85 2288.18 1518.27 Q2291.26 1513.66 2297.07 1513.66 Z\" fill=\"#000000\" fill-rule=\"nonzero\" fill-opacity=\"1\" /><path clip-path=\"url(#clip920)\" d=\"M2327.23 1517.37 Q2323.62 1517.37 2321.79 1520.93 Q2319.99 1524.47 2319.99 1531.6 Q2319.99 1538.71 2321.79 1542.27 Q2323.62 1545.82 2327.23 1545.82 Q2330.87 1545.82 2332.67 1542.27 Q2334.5 1538.71 2334.5 1531.6 Q2334.5 1524.47 2332.67 1520.93 Q2330.87 1517.37 2327.23 1517.37 M2327.23 1513.66 Q2333.04 1513.66 2336.1 1518.27 Q2339.18 1522.85 2339.18 1531.6 Q2339.18 1540.33 2336.1 1544.94 Q2333.04 1549.52 2327.23 1549.52 Q2321.42 1549.52 2318.34 1544.94 Q2315.29 1540.33 2315.29 1531.6 Q2315.29 1522.85 2318.34 1518.27 Q2321.42 1513.66 2327.23 1513.66 Z\" fill=\"#000000\" fill-rule=\"nonzero\" fill-opacity=\"1\" /><polyline clip-path=\"url(#clip920)\" style=\"stroke:#000000; stroke-linecap:round; stroke-linejoin:round; stroke-width:4; stroke-opacity:1; fill:none\" points=\"155.765,1486.45 155.765,47.2441 \"/>\n",
       "<polyline clip-path=\"url(#clip920)\" style=\"stroke:#000000; stroke-linecap:round; stroke-linejoin:round; stroke-width:4; stroke-opacity:1; fill:none\" points=\"155.765,1265.66 174.663,1265.66 \"/>\n",
       "<polyline clip-path=\"url(#clip920)\" style=\"stroke:#000000; stroke-linecap:round; stroke-linejoin:round; stroke-width:4; stroke-opacity:1; fill:none\" points=\"155.765,873.101 174.663,873.101 \"/>\n",
       "<polyline clip-path=\"url(#clip920)\" style=\"stroke:#000000; stroke-linecap:round; stroke-linejoin:round; stroke-width:4; stroke-opacity:1; fill:none\" points=\"155.765,480.539 174.663,480.539 \"/>\n",
       "<polyline clip-path=\"url(#clip920)\" style=\"stroke:#000000; stroke-linecap:round; stroke-linejoin:round; stroke-width:4; stroke-opacity:1; fill:none\" points=\"155.765,87.9763 174.663,87.9763 \"/>\n",
       "<path clip-path=\"url(#clip920)\" d=\"M63.5847 1251.46 Q59.9736 1251.46 58.1449 1255.03 Q56.3393 1258.57 56.3393 1265.7 Q56.3393 1272.8 58.1449 1276.37 Q59.9736 1279.91 63.5847 1279.91 Q67.2189 1279.91 69.0244 1276.37 Q70.8531 1272.8 70.8531 1265.7 Q70.8531 1258.57 69.0244 1255.03 Q67.2189 1251.46 63.5847 1251.46 M63.5847 1247.76 Q69.3948 1247.76 72.4503 1252.36 Q75.529 1256.95 75.529 1265.7 Q75.529 1274.42 72.4503 1279.03 Q69.3948 1283.61 63.5847 1283.61 Q57.7745 1283.61 54.6958 1279.03 Q51.6403 1274.42 51.6403 1265.7 Q51.6403 1256.95 54.6958 1252.36 Q57.7745 1247.76 63.5847 1247.76 Z\" fill=\"#000000\" fill-rule=\"nonzero\" fill-opacity=\"1\" /><path clip-path=\"url(#clip920)\" d=\"M83.7466 1277.06 L88.6308 1277.06 L88.6308 1282.94 L83.7466 1282.94 L83.7466 1277.06 Z\" fill=\"#000000\" fill-rule=\"nonzero\" fill-opacity=\"1\" /><path clip-path=\"url(#clip920)\" d=\"M98.8622 1248.38 L117.219 1248.38 L117.219 1252.32 L103.145 1252.32 L103.145 1260.79 Q104.163 1260.44 105.182 1260.28 Q106.2 1260.1 107.219 1260.1 Q113.006 1260.1 116.385 1263.27 Q119.765 1266.44 119.765 1271.86 Q119.765 1277.43 116.293 1280.54 Q112.82 1283.61 106.501 1283.61 Q104.325 1283.61 102.057 1283.24 Q99.8113 1282.87 97.4039 1282.13 L97.4039 1277.43 Q99.4872 1278.57 101.709 1279.12 Q103.932 1279.68 106.408 1279.68 Q110.413 1279.68 112.751 1277.57 Q115.089 1275.47 115.089 1271.86 Q115.089 1268.24 112.751 1266.14 Q110.413 1264.03 106.408 1264.03 Q104.534 1264.03 102.659 1264.45 Q100.807 1264.86 98.8622 1265.74 L98.8622 1248.38 Z\" fill=\"#000000\" fill-rule=\"nonzero\" fill-opacity=\"1\" /><path clip-path=\"url(#clip920)\" d=\"M53.3995 886.446 L61.0384 886.446 L61.0384 860.08 L52.7282 861.747 L52.7282 857.488 L60.9921 855.821 L65.668 855.821 L65.668 886.446 L73.3068 886.446 L73.3068 890.381 L53.3995 890.381 L53.3995 886.446 Z\" fill=\"#000000\" fill-rule=\"nonzero\" fill-opacity=\"1\" /><path clip-path=\"url(#clip920)\" d=\"M82.7512 884.501 L87.6354 884.501 L87.6354 890.381 L82.7512 890.381 L82.7512 884.501 Z\" fill=\"#000000\" fill-rule=\"nonzero\" fill-opacity=\"1\" /><path clip-path=\"url(#clip920)\" d=\"M107.821 858.9 Q104.209 858.9 102.381 862.465 Q100.575 866.006 100.575 873.136 Q100.575 880.242 102.381 883.807 Q104.209 887.349 107.821 887.349 Q111.455 887.349 113.26 883.807 Q115.089 880.242 115.089 873.136 Q115.089 866.006 113.26 862.465 Q111.455 858.9 107.821 858.9 M107.821 855.196 Q113.631 855.196 116.686 859.803 Q119.765 864.386 119.765 873.136 Q119.765 881.863 116.686 886.469 Q113.631 891.052 107.821 891.052 Q102.01 891.052 98.9317 886.469 Q95.8761 881.863 95.8761 873.136 Q95.8761 864.386 98.9317 859.803 Q102.01 855.196 107.821 855.196 Z\" fill=\"#000000\" fill-rule=\"nonzero\" fill-opacity=\"1\" /><path clip-path=\"url(#clip920)\" d=\"M54.3949 493.884 L62.0337 493.884 L62.0337 467.518 L53.7236 469.185 L53.7236 464.925 L61.9874 463.259 L66.6633 463.259 L66.6633 493.884 L74.3022 493.884 L74.3022 497.819 L54.3949 497.819 L54.3949 493.884 Z\" fill=\"#000000\" fill-rule=\"nonzero\" fill-opacity=\"1\" /><path clip-path=\"url(#clip920)\" d=\"M83.7466 491.939 L88.6308 491.939 L88.6308 497.819 L83.7466 497.819 L83.7466 491.939 Z\" fill=\"#000000\" fill-rule=\"nonzero\" fill-opacity=\"1\" /><path clip-path=\"url(#clip920)\" d=\"M98.8622 463.259 L117.219 463.259 L117.219 467.194 L103.145 467.194 L103.145 475.666 Q104.163 475.319 105.182 475.157 Q106.2 474.972 107.219 474.972 Q113.006 474.972 116.385 478.143 Q119.765 481.314 119.765 486.731 Q119.765 492.309 116.293 495.411 Q112.82 498.49 106.501 498.49 Q104.325 498.49 102.057 498.12 Q99.8113 497.749 97.4039 497.008 L97.4039 492.309 Q99.4872 493.444 101.709 493.999 Q103.932 494.555 106.408 494.555 Q110.413 494.555 112.751 492.448 Q115.089 490.342 115.089 486.731 Q115.089 483.12 112.751 481.013 Q110.413 478.907 106.408 478.907 Q104.534 478.907 102.659 479.323 Q100.807 479.74 98.8622 480.62 L98.8622 463.259 Z\" fill=\"#000000\" fill-rule=\"nonzero\" fill-opacity=\"1\" /><path clip-path=\"url(#clip920)\" d=\"M56.6171 101.321 L72.9365 101.321 L72.9365 105.256 L50.9921 105.256 L50.9921 101.321 Q53.6541 98.5665 58.2375 93.9369 Q62.8439 89.2841 64.0245 87.9416 Q66.2698 85.4184 67.1494 83.6823 Q68.0522 81.9231 68.0522 80.2333 Q68.0522 77.4786 66.1078 75.7425 Q64.1865 74.0064 61.0847 74.0064 Q58.8856 74.0064 56.4319 74.7703 Q54.0014 75.5342 51.2236 77.0851 L51.2236 72.3629 Q54.0477 71.2287 56.5014 70.65 Q58.955 70.0713 60.9921 70.0713 Q66.3624 70.0713 69.5568 72.7565 Q72.7513 75.4416 72.7513 79.9323 Q72.7513 82.062 71.9411 83.9832 Q71.1541 85.8814 69.0476 88.474 Q68.4689 89.1453 65.367 92.3628 Q62.2652 95.5573 56.6171 101.321 Z\" fill=\"#000000\" fill-rule=\"nonzero\" fill-opacity=\"1\" /><path clip-path=\"url(#clip920)\" d=\"M82.7512 99.3767 L87.6354 99.3767 L87.6354 105.256 L82.7512 105.256 L82.7512 99.3767 Z\" fill=\"#000000\" fill-rule=\"nonzero\" fill-opacity=\"1\" /><path clip-path=\"url(#clip920)\" d=\"M107.821 73.775 Q104.209 73.775 102.381 77.3398 Q100.575 80.8814 100.575 88.011 Q100.575 95.1174 102.381 98.6822 Q104.209 102.224 107.821 102.224 Q111.455 102.224 113.26 98.6822 Q115.089 95.1174 115.089 88.011 Q115.089 80.8814 113.26 77.3398 Q111.455 73.775 107.821 73.775 M107.821 70.0713 Q113.631 70.0713 116.686 74.6777 Q119.765 79.261 119.765 88.011 Q119.765 96.7378 116.686 101.344 Q113.631 105.928 107.821 105.928 Q102.01 105.928 98.9317 101.344 Q95.8761 96.7378 95.8761 88.011 Q95.8761 79.261 98.9317 74.6777 Q102.01 70.0713 107.821 70.0713 Z\" fill=\"#000000\" fill-rule=\"nonzero\" fill-opacity=\"1\" /><circle clip-path=\"url(#clip922)\" cx=\"217.944\" cy=\"87.9763\" r=\"14.4\" fill=\"#009af9\" fill-rule=\"evenodd\" fill-opacity=\"1\" stroke=\"#000000\" stroke-opacity=\"1\" stroke-width=\"3.2\"/>\n",
       "<circle clip-path=\"url(#clip922)\" cx=\"425.207\" cy=\"372.614\" r=\"14.4\" fill=\"#009af9\" fill-rule=\"evenodd\" fill-opacity=\"1\" stroke=\"#000000\" stroke-opacity=\"1\" stroke-width=\"3.2\"/>\n",
       "<circle clip-path=\"url(#clip922)\" cx=\"632.47\" cy=\"605.656\" r=\"14.4\" fill=\"#009af9\" fill-rule=\"evenodd\" fill-opacity=\"1\" stroke=\"#000000\" stroke-opacity=\"1\" stroke-width=\"3.2\"/>\n",
       "<circle clip-path=\"url(#clip922)\" cx=\"839.734\" cy=\"796.455\" r=\"14.4\" fill=\"#009af9\" fill-rule=\"evenodd\" fill-opacity=\"1\" stroke=\"#000000\" stroke-opacity=\"1\" stroke-width=\"3.2\"/>\n",
       "<circle clip-path=\"url(#clip922)\" cx=\"1047\" cy=\"952.667\" r=\"14.4\" fill=\"#009af9\" fill-rule=\"evenodd\" fill-opacity=\"1\" stroke=\"#000000\" stroke-opacity=\"1\" stroke-width=\"3.2\"/>\n",
       "<circle clip-path=\"url(#clip922)\" cx=\"1254.26\" cy=\"1080.56\" r=\"14.4\" fill=\"#009af9\" fill-rule=\"evenodd\" fill-opacity=\"1\" stroke=\"#000000\" stroke-opacity=\"1\" stroke-width=\"3.2\"/>\n",
       "<circle clip-path=\"url(#clip922)\" cx=\"1461.52\" cy=\"1185.28\" r=\"14.4\" fill=\"#009af9\" fill-rule=\"evenodd\" fill-opacity=\"1\" stroke=\"#000000\" stroke-opacity=\"1\" stroke-width=\"3.2\"/>\n",
       "<circle clip-path=\"url(#clip922)\" cx=\"1668.79\" cy=\"1271.01\" r=\"14.4\" fill=\"#009af9\" fill-rule=\"evenodd\" fill-opacity=\"1\" stroke=\"#000000\" stroke-opacity=\"1\" stroke-width=\"3.2\"/>\n",
       "<circle clip-path=\"url(#clip922)\" cx=\"1876.05\" cy=\"1341.2\" r=\"14.4\" fill=\"#009af9\" fill-rule=\"evenodd\" fill-opacity=\"1\" stroke=\"#000000\" stroke-opacity=\"1\" stroke-width=\"3.2\"/>\n",
       "<circle clip-path=\"url(#clip922)\" cx=\"2083.31\" cy=\"1398.67\" r=\"14.4\" fill=\"#009af9\" fill-rule=\"evenodd\" fill-opacity=\"1\" stroke=\"#000000\" stroke-opacity=\"1\" stroke-width=\"3.2\"/>\n",
       "<circle clip-path=\"url(#clip922)\" cx=\"2290.58\" cy=\"1445.72\" r=\"14.4\" fill=\"#009af9\" fill-rule=\"evenodd\" fill-opacity=\"1\" stroke=\"#000000\" stroke-opacity=\"1\" stroke-width=\"3.2\"/>\n",
       "<path clip-path=\"url(#clip920)\" d=\"M2007.39 198.898 L2279.52 198.898 L2279.52 95.2176 L2007.39 95.2176  Z\" fill=\"#ffffff\" fill-rule=\"evenodd\" fill-opacity=\"1\"/>\n",
       "<polyline clip-path=\"url(#clip920)\" style=\"stroke:#000000; stroke-linecap:round; stroke-linejoin:round; stroke-width:4; stroke-opacity:1; fill:none\" points=\"2007.39,198.898 2279.52,198.898 2279.52,95.2176 2007.39,95.2176 2007.39,198.898 \"/>\n",
       "<circle clip-path=\"url(#clip920)\" cx=\"2105.04\" cy=\"147.058\" r=\"20.48\" fill=\"#009af9\" fill-rule=\"evenodd\" fill-opacity=\"1\" stroke=\"#000000\" stroke-opacity=\"1\" stroke-width=\"4.55111\"/>\n",
       "<path clip-path=\"url(#clip920)\" d=\"M2216.52 166.745 Q2214.72 171.375 2213.01 172.787 Q2211.29 174.199 2208.42 174.199 L2205.02 174.199 L2205.02 170.634 L2207.52 170.634 Q2209.28 170.634 2210.25 169.8 Q2211.22 168.967 2212.4 165.865 L2213.17 163.921 L2202.68 138.412 L2207.2 138.412 L2215.3 158.689 L2223.4 138.412 L2227.91 138.412 L2216.52 166.745 Z\" fill=\"#000000\" fill-rule=\"nonzero\" fill-opacity=\"1\" /><path clip-path=\"url(#clip920)\" d=\"M2235.2 160.402 L2242.84 160.402 L2242.84 134.037 L2234.53 135.703 L2234.53 131.444 L2242.8 129.778 L2247.47 129.778 L2247.47 160.402 L2255.11 160.402 L2255.11 164.338 L2235.2 164.338 L2235.2 160.402 Z\" fill=\"#000000\" fill-rule=\"nonzero\" fill-opacity=\"1\" /></svg>\n"
      ]
     },
     "execution_count": 8,
     "metadata": {},
     "output_type": "execute_result"
    }
   ],
   "source": [
    "scatter(x,y)"
   ]
  },
  {
   "cell_type": "code",
   "execution_count": 9,
   "id": "4a1ddc16-77d4-4ff9-8a1d-f9b0d6ec34db",
   "metadata": {},
   "outputs": [
    {
     "data": {
      "text/plain": [
       "11-element Vector{Float64}:\n",
       " 1.8448514706495116\n",
       " 1.722571187389535\n",
       " 1.3338483774241623\n",
       " 1.23654911113426\n",
       " 0.8913582665334253\n",
       " 0.5470206929835474\n",
       " 0.7108743184777063\n",
       " 0.4367539224654097\n",
       " 0.4859022832091415\n",
       " 0.3719384360492449\n",
       " 0.3593598072248347"
      ]
     },
     "execution_count": 9,
     "metadata": {},
     "output_type": "execute_result"
    }
   ],
   "source": [
    "y_exp = y + 0.1*randn(length(y))"
   ]
  },
  {
   "cell_type": "code",
   "execution_count": 10,
   "id": "4fb8aaf8-5ec1-40aa-a9b5-f7dd9433d217",
   "metadata": {},
   "outputs": [
    {
     "data": {
      "image/png": "[encoded data removed]",
      "image/svg+xml": [
       "<?xml version=\"1.0\" encoding=\"utf-8\"?>\n",
       "<svg xmlns=\"http://www.w3.org/2000/svg\" xmlns:xlink=\"http://www.w3.org/1999/xlink\" width=\"600\" height=\"400\" viewBox=\"0 0 2400 1600\">\n",
       "<defs>\n",
       "  <clipPath id=\"clip960\">\n",
       "    <rect x=\"0\" y=\"0\" width=\"2400\" height=\"1600\"/>\n",
       "  </clipPath>\n",
       "</defs>\n",
       "<path clip-path=\"url(#clip960)\" d=\"M0 1600 L2400 1600 L2400 8.88178e-14 L0 8.88178e-14  Z\" fill=\"#ffffff\" fill-rule=\"evenodd\" fill-opacity=\"1\"/>\n",
       "<defs>\n",
       "  <clipPath id=\"clip961\">\n",
       "    <rect x=\"480\" y=\"0\" width=\"1681\" height=\"1600\"/>\n",
       "  </clipPath>\n",
       "</defs>\n",
       "<path clip-path=\"url(#clip960)\" d=\"M156.274 1486.45 L2352.76 1486.45 L2352.76 47.2441 L156.274 47.2441  Z\" fill=\"#ffffff\" fill-rule=\"evenodd\" fill-opacity=\"1\"/>\n",
       "<defs>\n",
       "  <clipPath id=\"clip962\">\n",
       "    <rect x=\"156\" y=\"47\" width=\"2197\" height=\"1440\"/>\n",
       "  </clipPath>\n",
       "</defs>\n",
       "<polyline clip-path=\"url(#clip962)\" style=\"stroke:#000000; stroke-linecap:round; stroke-linejoin:round; stroke-width:2; stroke-opacity:0.1; fill:none\" points=\"218.439,1486.45 218.439,47.2441 \"/>\n",
       "<polyline clip-path=\"url(#clip962)\" style=\"stroke:#000000; stroke-linecap:round; stroke-linejoin:round; stroke-width:2; stroke-opacity:0.1; fill:none\" points=\"736.477,1486.45 736.477,47.2441 \"/>\n",
       "<polyline clip-path=\"url(#clip962)\" style=\"stroke:#000000; stroke-linecap:round; stroke-linejoin:round; stroke-width:2; stroke-opacity:0.1; fill:none\" points=\"1254.52,1486.45 1254.52,47.2441 \"/>\n",
       "<polyline clip-path=\"url(#clip962)\" style=\"stroke:#000000; stroke-linecap:round; stroke-linejoin:round; stroke-width:2; stroke-opacity:0.1; fill:none\" points=\"1772.55,1486.45 1772.55,47.2441 \"/>\n",
       "<polyline clip-path=\"url(#clip962)\" style=\"stroke:#000000; stroke-linecap:round; stroke-linejoin:round; stroke-width:2; stroke-opacity:0.1; fill:none\" points=\"2290.59,1486.45 2290.59,47.2441 \"/>\n",
       "<polyline clip-path=\"url(#clip962)\" style=\"stroke:#000000; stroke-linecap:round; stroke-linejoin:round; stroke-width:2; stroke-opacity:0.1; fill:none\" points=\"156.274,1225.77 2352.76,1225.77 \"/>\n",
       "<polyline clip-path=\"url(#clip962)\" style=\"stroke:#000000; stroke-linecap:round; stroke-linejoin:round; stroke-width:2; stroke-opacity:0.1; fill:none\" points=\"156.274,951.571 2352.76,951.571 \"/>\n",
       "<polyline clip-path=\"url(#clip962)\" style=\"stroke:#000000; stroke-linecap:round; stroke-linejoin:round; stroke-width:2; stroke-opacity:0.1; fill:none\" points=\"156.274,677.371 2352.76,677.371 \"/>\n",
       "<polyline clip-path=\"url(#clip962)\" style=\"stroke:#000000; stroke-linecap:round; stroke-linejoin:round; stroke-width:2; stroke-opacity:0.1; fill:none\" points=\"156.274,403.171 2352.76,403.171 \"/>\n",
       "<polyline clip-path=\"url(#clip962)\" style=\"stroke:#000000; stroke-linecap:round; stroke-linejoin:round; stroke-width:2; stroke-opacity:0.1; fill:none\" points=\"156.274,128.971 2352.76,128.971 \"/>\n",
       "<polyline clip-path=\"url(#clip960)\" style=\"stroke:#000000; stroke-linecap:round; stroke-linejoin:round; stroke-width:4; stroke-opacity:1; fill:none\" points=\"156.274,1486.45 2352.76,1486.45 \"/>\n",
       "<polyline clip-path=\"url(#clip960)\" style=\"stroke:#000000; stroke-linecap:round; stroke-linejoin:round; stroke-width:4; stroke-opacity:1; fill:none\" points=\"218.439,1486.45 218.439,1467.55 \"/>\n",
       "<polyline clip-path=\"url(#clip960)\" style=\"stroke:#000000; stroke-linecap:round; stroke-linejoin:round; stroke-width:4; stroke-opacity:1; fill:none\" points=\"736.477,1486.45 736.477,1467.55 \"/>\n",
       "<polyline clip-path=\"url(#clip960)\" style=\"stroke:#000000; stroke-linecap:round; stroke-linejoin:round; stroke-width:4; stroke-opacity:1; fill:none\" points=\"1254.52,1486.45 1254.52,1467.55 \"/>\n",
       "<polyline clip-path=\"url(#clip960)\" style=\"stroke:#000000; stroke-linecap:round; stroke-linejoin:round; stroke-width:4; stroke-opacity:1; fill:none\" points=\"1772.55,1486.45 1772.55,1467.55 \"/>\n",
       "<polyline clip-path=\"url(#clip960)\" style=\"stroke:#000000; stroke-linecap:round; stroke-linejoin:round; stroke-width:4; stroke-opacity:1; fill:none\" points=\"2290.59,1486.45 2290.59,1467.55 \"/>\n",
       "<path clip-path=\"url(#clip960)\" d=\"M180.742 1517.37 Q177.131 1517.37 175.302 1520.93 Q173.497 1524.47 173.497 1531.6 Q173.497 1538.71 175.302 1542.27 Q177.131 1545.82 180.742 1545.82 Q184.376 1545.82 186.182 1542.27 Q188.011 1538.71 188.011 1531.6 Q188.011 1524.47 186.182 1520.93 Q184.376 1517.37 180.742 1517.37 M180.742 1513.66 Q186.552 1513.66 189.608 1518.27 Q192.687 1522.85 192.687 1531.6 Q192.687 1540.33 189.608 1544.94 Q186.552 1549.52 180.742 1549.52 Q174.932 1549.52 171.853 1544.94 Q168.798 1540.33 168.798 1531.6 Q168.798 1522.85 171.853 1518.27 Q174.932 1513.66 180.742 1513.66 Z\" fill=\"#000000\" fill-rule=\"nonzero\" fill-opacity=\"1\" /><path clip-path=\"url(#clip960)\" d=\"M200.904 1542.97 L205.788 1542.97 L205.788 1548.85 L200.904 1548.85 L200.904 1542.97 Z\" fill=\"#000000\" fill-rule=\"nonzero\" fill-opacity=\"1\" /><path clip-path=\"url(#clip960)\" d=\"M225.973 1517.37 Q222.362 1517.37 220.534 1520.93 Q218.728 1524.47 218.728 1531.6 Q218.728 1538.71 220.534 1542.27 Q222.362 1545.82 225.973 1545.82 Q229.608 1545.82 231.413 1542.27 Q233.242 1538.71 233.242 1531.6 Q233.242 1524.47 231.413 1520.93 Q229.608 1517.37 225.973 1517.37 M225.973 1513.66 Q231.784 1513.66 234.839 1518.27 Q237.918 1522.85 237.918 1531.6 Q237.918 1540.33 234.839 1544.94 Q231.784 1549.52 225.973 1549.52 Q220.163 1549.52 217.085 1544.94 Q214.029 1540.33 214.029 1531.6 Q214.029 1522.85 217.085 1518.27 Q220.163 1513.66 225.973 1513.66 Z\" fill=\"#000000\" fill-rule=\"nonzero\" fill-opacity=\"1\" /><path clip-path=\"url(#clip960)\" d=\"M256.135 1517.37 Q252.524 1517.37 250.696 1520.93 Q248.89 1524.47 248.89 1531.6 Q248.89 1538.71 250.696 1542.27 Q252.524 1545.82 256.135 1545.82 Q259.77 1545.82 261.575 1542.27 Q263.404 1538.71 263.404 1531.6 Q263.404 1524.47 261.575 1520.93 Q259.77 1517.37 256.135 1517.37 M256.135 1513.66 Q261.945 1513.66 265.001 1518.27 Q268.08 1522.85 268.08 1531.6 Q268.08 1540.33 265.001 1544.94 Q261.945 1549.52 256.135 1549.52 Q250.325 1549.52 247.246 1544.94 Q244.191 1540.33 244.191 1531.6 Q244.191 1522.85 247.246 1518.27 Q250.325 1513.66 256.135 1513.66 Z\" fill=\"#000000\" fill-rule=\"nonzero\" fill-opacity=\"1\" /><path clip-path=\"url(#clip960)\" d=\"M699.278 1517.37 Q695.667 1517.37 693.838 1520.93 Q692.033 1524.47 692.033 1531.6 Q692.033 1538.71 693.838 1542.27 Q695.667 1545.82 699.278 1545.82 Q702.912 1545.82 704.718 1542.27 Q706.546 1538.71 706.546 1531.6 Q706.546 1524.47 704.718 1520.93 Q702.912 1517.37 699.278 1517.37 M699.278 1513.66 Q705.088 1513.66 708.144 1518.27 Q711.222 1522.85 711.222 1531.6 Q711.222 1540.33 708.144 1544.94 Q705.088 1549.52 699.278 1549.52 Q693.468 1549.52 690.389 1544.94 Q687.334 1540.33 687.334 1531.6 Q687.334 1522.85 690.389 1518.27 Q693.468 1513.66 699.278 1513.66 Z\" fill=\"#000000\" fill-rule=\"nonzero\" fill-opacity=\"1\" /><path clip-path=\"url(#clip960)\" d=\"M719.44 1542.97 L724.324 1542.97 L724.324 1548.85 L719.44 1548.85 L719.44 1542.97 Z\" fill=\"#000000\" fill-rule=\"nonzero\" fill-opacity=\"1\" /><path clip-path=\"url(#clip960)\" d=\"M738.537 1544.91 L754.856 1544.91 L754.856 1548.85 L732.912 1548.85 L732.912 1544.91 Q735.574 1542.16 740.157 1537.53 Q744.764 1532.88 745.944 1531.53 Q748.19 1529.01 749.069 1527.27 Q749.972 1525.51 749.972 1523.82 Q749.972 1521.07 748.028 1519.33 Q746.106 1517.6 743.005 1517.6 Q740.806 1517.6 738.352 1518.36 Q735.921 1519.13 733.144 1520.68 L733.144 1515.95 Q735.968 1514.82 738.421 1514.24 Q740.875 1513.66 742.912 1513.66 Q748.282 1513.66 751.477 1516.35 Q754.671 1519.03 754.671 1523.52 Q754.671 1525.65 753.861 1527.57 Q753.074 1529.47 750.968 1532.07 Q750.389 1532.74 747.287 1535.95 Q744.185 1539.15 738.537 1544.91 Z\" fill=\"#000000\" fill-rule=\"nonzero\" fill-opacity=\"1\" /><path clip-path=\"url(#clip960)\" d=\"M764.717 1514.29 L783.074 1514.29 L783.074 1518.22 L769 1518.22 L769 1526.7 Q770.018 1526.35 771.037 1526.19 Q772.055 1526 773.074 1526 Q778.861 1526 782.241 1529.17 Q785.62 1532.34 785.62 1537.76 Q785.62 1543.34 782.148 1546.44 Q778.676 1549.52 772.356 1549.52 Q770.18 1549.52 767.912 1549.15 Q765.667 1548.78 763.259 1548.04 L763.259 1543.34 Q765.342 1544.47 767.565 1545.03 Q769.787 1545.58 772.264 1545.58 Q776.268 1545.58 778.606 1543.48 Q780.944 1541.37 780.944 1537.76 Q780.944 1534.15 778.606 1532.04 Q776.268 1529.94 772.264 1529.94 Q770.389 1529.94 768.514 1530.35 Q766.662 1530.77 764.717 1531.65 L764.717 1514.29 Z\" fill=\"#000000\" fill-rule=\"nonzero\" fill-opacity=\"1\" /><path clip-path=\"url(#clip960)\" d=\"M1216.82 1517.37 Q1213.21 1517.37 1211.38 1520.93 Q1209.57 1524.47 1209.57 1531.6 Q1209.57 1538.71 1211.38 1542.27 Q1213.21 1545.82 1216.82 1545.82 Q1220.45 1545.82 1222.26 1542.27 Q1224.09 1538.71 1224.09 1531.6 Q1224.09 1524.47 1222.26 1520.93 Q1220.45 1517.37 1216.82 1517.37 M1216.82 1513.66 Q1222.63 1513.66 1225.68 1518.27 Q1228.76 1522.85 1228.76 1531.6 Q1228.76 1540.33 1225.68 1544.94 Q1222.63 1549.52 1216.82 1549.52 Q1211.01 1549.52 1207.93 1544.94 Q1204.87 1540.33 1204.87 1531.6 Q1204.87 1522.85 1207.93 1518.27 Q1211.01 1513.66 1216.82 1513.66 Z\" fill=\"#000000\" fill-rule=\"nonzero\" fill-opacity=\"1\" /><path clip-path=\"url(#clip960)\" d=\"M1236.98 1542.97 L1241.86 1542.97 L1241.86 1548.85 L1236.98 1548.85 L1236.98 1542.97 Z\" fill=\"#000000\" fill-rule=\"nonzero\" fill-opacity=\"1\" /><path clip-path=\"url(#clip960)\" d=\"M1252.1 1514.29 L1270.45 1514.29 L1270.45 1518.22 L1256.38 1518.22 L1256.38 1526.7 Q1257.4 1526.35 1258.42 1526.19 Q1259.43 1526 1260.45 1526 Q1266.24 1526 1269.62 1529.17 Q1273 1532.34 1273 1537.76 Q1273 1543.34 1269.53 1546.44 Q1266.05 1549.52 1259.73 1549.52 Q1257.56 1549.52 1255.29 1549.15 Q1253.05 1548.78 1250.64 1548.04 L1250.64 1543.34 Q1252.72 1544.47 1254.94 1545.03 Q1257.17 1545.58 1259.64 1545.58 Q1263.65 1545.58 1265.98 1543.48 Q1268.32 1541.37 1268.32 1537.76 Q1268.32 1534.15 1265.98 1532.04 Q1263.65 1529.94 1259.64 1529.94 Q1257.77 1529.94 1255.89 1530.35 Q1254.04 1530.77 1252.1 1531.65 L1252.1 1514.29 Z\" fill=\"#000000\" fill-rule=\"nonzero\" fill-opacity=\"1\" /><path clip-path=\"url(#clip960)\" d=\"M1292.21 1517.37 Q1288.6 1517.37 1286.77 1520.93 Q1284.97 1524.47 1284.97 1531.6 Q1284.97 1538.71 1286.77 1542.27 Q1288.6 1545.82 1292.21 1545.82 Q1295.85 1545.82 1297.65 1542.27 Q1299.48 1538.71 1299.48 1531.6 Q1299.48 1524.47 1297.65 1520.93 Q1295.85 1517.37 1292.21 1517.37 M1292.21 1513.66 Q1298.02 1513.66 1301.08 1518.27 Q1304.16 1522.85 1304.16 1531.6 Q1304.16 1540.33 1301.08 1544.94 Q1298.02 1549.52 1292.21 1549.52 Q1286.4 1549.52 1283.32 1544.94 Q1280.27 1540.33 1280.27 1531.6 Q1280.27 1522.85 1283.32 1518.27 Q1286.4 1513.66 1292.21 1513.66 Z\" fill=\"#000000\" fill-rule=\"nonzero\" fill-opacity=\"1\" /><path clip-path=\"url(#clip960)\" d=\"M1735.35 1517.37 Q1731.74 1517.37 1729.91 1520.93 Q1728.11 1524.47 1728.11 1531.6 Q1728.11 1538.71 1729.91 1542.27 Q1731.74 1545.82 1735.35 1545.82 Q1738.99 1545.82 1740.79 1542.27 Q1742.62 1538.71 1742.62 1531.6 Q1742.62 1524.47 1740.79 1520.93 Q1738.99 1517.37 1735.35 1517.37 M1735.35 1513.66 Q1741.16 1513.66 1744.22 1518.27 Q1747.3 1522.85 1747.3 1531.6 Q1747.3 1540.33 1744.22 1544.94 Q1741.16 1549.52 1735.35 1549.52 Q1729.54 1549.52 1726.47 1544.94 Q1723.41 1540.33 1723.41 1531.6 Q1723.41 1522.85 1726.47 1518.27 Q1729.54 1513.66 1735.35 1513.66 Z\" fill=\"#000000\" fill-rule=\"nonzero\" fill-opacity=\"1\" /><path clip-path=\"url(#clip960)\" d=\"M1755.52 1542.97 L1760.4 1542.97 L1760.4 1548.85 L1755.52 1548.85 L1755.52 1542.97 Z\" fill=\"#000000\" fill-rule=\"nonzero\" fill-opacity=\"1\" /><path clip-path=\"url(#clip960)\" d=\"M1769.41 1514.29 L1791.63 1514.29 L1791.63 1516.28 L1779.08 1548.85 L1774.2 1548.85 L1786 1518.22 L1769.41 1518.22 L1769.41 1514.29 Z\" fill=\"#000000\" fill-rule=\"nonzero\" fill-opacity=\"1\" /><path clip-path=\"url(#clip960)\" d=\"M1800.79 1514.29 L1819.15 1514.29 L1819.15 1518.22 L1805.08 1518.22 L1805.08 1526.7 Q1806.09 1526.35 1807.11 1526.19 Q1808.13 1526 1809.15 1526 Q1814.94 1526 1818.32 1529.17 Q1821.7 1532.34 1821.7 1537.76 Q1821.7 1543.34 1818.22 1546.44 Q1814.75 1549.52 1808.43 1549.52 Q1806.26 1549.52 1803.99 1549.15 Q1801.74 1548.78 1799.34 1548.04 L1799.34 1543.34 Q1801.42 1544.47 1803.64 1545.03 Q1805.86 1545.58 1808.34 1545.58 Q1812.34 1545.58 1814.68 1543.48 Q1817.02 1541.37 1817.02 1537.76 Q1817.02 1534.15 1814.68 1532.04 Q1812.34 1529.94 1808.34 1529.94 Q1806.47 1529.94 1804.59 1530.35 Q1802.74 1530.77 1800.79 1531.65 L1800.79 1514.29 Z\" fill=\"#000000\" fill-rule=\"nonzero\" fill-opacity=\"1\" /><path clip-path=\"url(#clip960)\" d=\"M2242.66 1544.91 L2250.3 1544.91 L2250.3 1518.55 L2241.99 1520.21 L2241.99 1515.95 L2250.26 1514.29 L2254.93 1514.29 L2254.93 1544.91 L2262.57 1544.91 L2262.57 1548.85 L2242.66 1548.85 L2242.66 1544.91 Z\" fill=\"#000000\" fill-rule=\"nonzero\" fill-opacity=\"1\" /><path clip-path=\"url(#clip960)\" d=\"M2272.02 1542.97 L2276.9 1542.97 L2276.9 1548.85 L2272.02 1548.85 L2272.02 1542.97 Z\" fill=\"#000000\" fill-rule=\"nonzero\" fill-opacity=\"1\" /><path clip-path=\"url(#clip960)\" d=\"M2297.08 1517.37 Q2293.47 1517.37 2291.64 1520.93 Q2289.84 1524.47 2289.84 1531.6 Q2289.84 1538.71 2291.64 1542.27 Q2293.47 1545.82 2297.08 1545.82 Q2300.72 1545.82 2302.52 1542.27 Q2304.35 1538.71 2304.35 1531.6 Q2304.35 1524.47 2302.52 1520.93 Q2300.72 1517.37 2297.08 1517.37 M2297.08 1513.66 Q2302.89 1513.66 2305.95 1518.27 Q2309.03 1522.85 2309.03 1531.6 Q2309.03 1540.33 2305.95 1544.94 Q2302.89 1549.52 2297.08 1549.52 Q2291.27 1549.52 2288.2 1544.94 Q2285.14 1540.33 2285.14 1531.6 Q2285.14 1522.85 2288.2 1518.27 Q2291.27 1513.66 2297.08 1513.66 Z\" fill=\"#000000\" fill-rule=\"nonzero\" fill-opacity=\"1\" /><path clip-path=\"url(#clip960)\" d=\"M2327.25 1517.37 Q2323.64 1517.37 2321.81 1520.93 Q2320 1524.47 2320 1531.6 Q2320 1538.71 2321.81 1542.27 Q2323.64 1545.82 2327.25 1545.82 Q2330.88 1545.82 2332.69 1542.27 Q2334.51 1538.71 2334.51 1531.6 Q2334.51 1524.47 2332.69 1520.93 Q2330.88 1517.37 2327.25 1517.37 M2327.25 1513.66 Q2333.06 1513.66 2336.11 1518.27 Q2339.19 1522.85 2339.19 1531.6 Q2339.19 1540.33 2336.11 1544.94 Q2333.06 1549.52 2327.25 1549.52 Q2321.44 1549.52 2318.36 1544.94 Q2315.3 1540.33 2315.3 1531.6 Q2315.3 1522.85 2318.36 1518.27 Q2321.44 1513.66 2327.25 1513.66 Z\" fill=\"#000000\" fill-rule=\"nonzero\" fill-opacity=\"1\" /><polyline clip-path=\"url(#clip960)\" style=\"stroke:#000000; stroke-linecap:round; stroke-linejoin:round; stroke-width:4; stroke-opacity:1; fill:none\" points=\"156.274,1486.45 156.274,47.2441 \"/>\n",
       "<polyline clip-path=\"url(#clip960)\" style=\"stroke:#000000; stroke-linecap:round; stroke-linejoin:round; stroke-width:4; stroke-opacity:1; fill:none\" points=\"156.274,1225.77 175.172,1225.77 \"/>\n",
       "<polyline clip-path=\"url(#clip960)\" style=\"stroke:#000000; stroke-linecap:round; stroke-linejoin:round; stroke-width:4; stroke-opacity:1; fill:none\" points=\"156.274,951.571 175.172,951.571 \"/>\n",
       "<polyline clip-path=\"url(#clip960)\" style=\"stroke:#000000; stroke-linecap:round; stroke-linejoin:round; stroke-width:4; stroke-opacity:1; fill:none\" points=\"156.274,677.371 175.172,677.371 \"/>\n",
       "<polyline clip-path=\"url(#clip960)\" style=\"stroke:#000000; stroke-linecap:round; stroke-linejoin:round; stroke-width:4; stroke-opacity:1; fill:none\" points=\"156.274,403.171 175.172,403.171 \"/>\n",
       "<polyline clip-path=\"url(#clip960)\" style=\"stroke:#000000; stroke-linecap:round; stroke-linejoin:round; stroke-width:4; stroke-opacity:1; fill:none\" points=\"156.274,128.971 175.172,128.971 \"/>\n",
       "<path clip-path=\"url(#clip960)\" d=\"M62.9365 1211.57 Q59.3254 1211.57 57.4967 1215.13 Q55.6912 1218.68 55.6912 1225.81 Q55.6912 1232.91 57.4967 1236.48 Q59.3254 1240.02 62.9365 1240.02 Q66.5707 1240.02 68.3763 1236.48 Q70.205 1232.91 70.205 1225.81 Q70.205 1218.68 68.3763 1215.13 Q66.5707 1211.57 62.9365 1211.57 M62.9365 1207.87 Q68.7467 1207.87 71.8022 1212.47 Q74.8809 1217.06 74.8809 1225.81 Q74.8809 1234.53 71.8022 1239.14 Q68.7467 1243.72 62.9365 1243.72 Q57.1264 1243.72 54.0477 1239.14 Q50.9921 1234.53 50.9921 1225.81 Q50.9921 1217.06 54.0477 1212.47 Q57.1264 1207.87 62.9365 1207.87 Z\" fill=\"#000000\" fill-rule=\"nonzero\" fill-opacity=\"1\" /><path clip-path=\"url(#clip960)\" d=\"M83.0984 1237.17 L87.9827 1237.17 L87.9827 1243.05 L83.0984 1243.05 L83.0984 1237.17 Z\" fill=\"#000000\" fill-rule=\"nonzero\" fill-opacity=\"1\" /><path clip-path=\"url(#clip960)\" d=\"M108.746 1223.91 Q105.598 1223.91 103.746 1226.06 Q101.918 1228.21 101.918 1231.96 Q101.918 1235.69 103.746 1237.87 Q105.598 1240.02 108.746 1240.02 Q111.895 1240.02 113.723 1237.87 Q115.575 1235.69 115.575 1231.96 Q115.575 1228.21 113.723 1226.06 Q111.895 1223.91 108.746 1223.91 M118.029 1209.25 L118.029 1213.51 Q116.27 1212.68 114.464 1212.24 Q112.682 1211.8 110.922 1211.8 Q106.293 1211.8 103.839 1214.93 Q101.409 1218.05 101.061 1224.37 Q102.427 1222.36 104.487 1221.29 Q106.547 1220.2 109.024 1220.2 Q114.233 1220.2 117.242 1223.37 Q120.274 1226.52 120.274 1231.96 Q120.274 1237.29 117.126 1240.5 Q113.978 1243.72 108.746 1243.72 Q102.751 1243.72 99.5798 1239.14 Q96.4085 1234.53 96.4085 1225.81 Q96.4085 1217.61 100.297 1212.75 Q104.186 1207.87 110.737 1207.87 Q112.496 1207.87 114.279 1208.21 Q116.084 1208.56 118.029 1209.25 Z\" fill=\"#000000\" fill-rule=\"nonzero\" fill-opacity=\"1\" /><path clip-path=\"url(#clip960)\" d=\"M63.2837 937.369 Q59.6726 937.369 57.8439 940.934 Q56.0384 944.476 56.0384 951.605 Q56.0384 958.712 57.8439 962.277 Q59.6726 965.818 63.2837 965.818 Q66.918 965.818 68.7235 962.277 Q70.5522 958.712 70.5522 951.605 Q70.5522 944.476 68.7235 940.934 Q66.918 937.369 63.2837 937.369 M63.2837 933.666 Q69.0939 933.666 72.1494 938.272 Q75.2281 942.855 75.2281 951.605 Q75.2281 960.332 72.1494 964.939 Q69.0939 969.522 63.2837 969.522 Q57.4736 969.522 54.3949 964.939 Q51.3393 960.332 51.3393 951.605 Q51.3393 942.855 54.3949 938.272 Q57.4736 933.666 63.2837 933.666 Z\" fill=\"#000000\" fill-rule=\"nonzero\" fill-opacity=\"1\" /><path clip-path=\"url(#clip960)\" d=\"M83.4457 962.971 L88.3299 962.971 L88.3299 968.851 L83.4457 968.851 L83.4457 962.971 Z\" fill=\"#000000\" fill-rule=\"nonzero\" fill-opacity=\"1\" /><path clip-path=\"url(#clip960)\" d=\"M98.6539 968.133 L98.6539 963.874 Q100.413 964.707 102.219 965.147 Q104.024 965.587 105.76 965.587 Q110.39 965.587 112.82 962.485 Q115.274 959.36 115.621 953.017 Q114.279 955.008 112.219 956.073 Q110.158 957.138 107.658 957.138 Q102.473 957.138 99.4409 954.013 Q96.4317 950.865 96.4317 945.425 Q96.4317 940.101 99.5798 936.883 Q102.728 933.666 107.959 933.666 Q113.955 933.666 117.103 938.272 Q120.274 942.855 120.274 951.605 Q120.274 959.777 116.385 964.661 Q112.52 969.522 105.969 969.522 Q104.209 969.522 102.404 969.175 Q100.598 968.827 98.6539 968.133 M107.959 953.48 Q111.108 953.48 112.936 951.327 Q114.788 949.175 114.788 945.425 Q114.788 941.698 112.936 939.545 Q111.108 937.369 107.959 937.369 Q104.811 937.369 102.959 939.545 Q101.131 941.698 101.131 945.425 Q101.131 949.175 102.959 951.327 Q104.811 953.48 107.959 953.48 Z\" fill=\"#000000\" fill-rule=\"nonzero\" fill-opacity=\"1\" /><path clip-path=\"url(#clip960)\" d=\"M55.506 690.715 L63.1448 690.715 L63.1448 664.35 L54.8347 666.016 L54.8347 661.757 L63.0985 660.091 L67.7744 660.091 L67.7744 690.715 L75.4133 690.715 L75.4133 694.651 L55.506 694.651 L55.506 690.715 Z\" fill=\"#000000\" fill-rule=\"nonzero\" fill-opacity=\"1\" /><path clip-path=\"url(#clip960)\" d=\"M84.8577 688.771 L89.7419 688.771 L89.7419 694.651 L84.8577 694.651 L84.8577 688.771 Z\" fill=\"#000000\" fill-rule=\"nonzero\" fill-opacity=\"1\" /><path clip-path=\"url(#clip960)\" d=\"M103.955 690.715 L120.274 690.715 L120.274 694.651 L98.3298 694.651 L98.3298 690.715 Q100.992 687.961 105.575 683.331 Q110.182 678.678 111.362 677.336 Q113.608 674.813 114.487 673.077 Q115.39 671.317 115.39 669.628 Q115.39 666.873 113.445 665.137 Q111.524 663.401 108.422 663.401 Q106.223 663.401 103.77 664.165 Q101.339 664.928 98.5613 666.479 L98.5613 661.757 Q101.385 660.623 103.839 660.044 Q106.293 659.466 108.33 659.466 Q113.7 659.466 116.895 662.151 Q120.089 664.836 120.089 669.327 Q120.089 671.456 119.279 673.378 Q118.492 675.276 116.385 677.868 Q115.807 678.54 112.705 681.757 Q109.603 684.952 103.955 690.715 Z\" fill=\"#000000\" fill-rule=\"nonzero\" fill-opacity=\"1\" /><path clip-path=\"url(#clip960)\" d=\"M54.9041 416.515 L62.543 416.515 L62.543 390.15 L54.2328 391.816 L54.2328 387.557 L62.4967 385.891 L67.1726 385.891 L67.1726 416.515 L74.8114 416.515 L74.8114 420.451 L54.9041 420.451 L54.9041 416.515 Z\" fill=\"#000000\" fill-rule=\"nonzero\" fill-opacity=\"1\" /><path clip-path=\"url(#clip960)\" d=\"M84.2558 414.571 L89.1401 414.571 L89.1401 420.451 L84.2558 420.451 L84.2558 414.571 Z\" fill=\"#000000\" fill-rule=\"nonzero\" fill-opacity=\"1\" /><path clip-path=\"url(#clip960)\" d=\"M99.3715 385.891 L117.728 385.891 L117.728 389.826 L103.654 389.826 L103.654 398.298 Q104.672 397.951 105.691 397.789 Q106.709 397.603 107.728 397.603 Q113.515 397.603 116.895 400.775 Q120.274 403.946 120.274 409.363 Q120.274 414.941 116.802 418.043 Q113.33 421.122 107.01 421.122 Q104.834 421.122 102.566 420.751 Q100.321 420.381 97.9132 419.64 L97.9132 414.941 Q99.9965 416.076 102.219 416.631 Q104.441 417.187 106.918 417.187 Q110.922 417.187 113.26 415.08 Q115.598 412.974 115.598 409.363 Q115.598 405.752 113.26 403.645 Q110.922 401.539 106.918 401.539 Q105.043 401.539 103.168 401.955 Q101.316 402.372 99.3715 403.252 L99.3715 385.891 Z\" fill=\"#000000\" fill-rule=\"nonzero\" fill-opacity=\"1\" /><path clip-path=\"url(#clip960)\" d=\"M54.0014 142.315 L61.6402 142.315 L61.6402 115.95 L53.3301 117.616 L53.3301 113.357 L61.5939 111.691 L66.2698 111.691 L66.2698 142.315 L73.9087 142.315 L73.9087 146.251 L54.0014 146.251 L54.0014 142.315 Z\" fill=\"#000000\" fill-rule=\"nonzero\" fill-opacity=\"1\" /><path clip-path=\"url(#clip960)\" d=\"M83.3531 140.371 L88.2373 140.371 L88.2373 146.251 L83.3531 146.251 L83.3531 140.371 Z\" fill=\"#000000\" fill-rule=\"nonzero\" fill-opacity=\"1\" /><path clip-path=\"url(#clip960)\" d=\"M108.422 129.839 Q105.089 129.839 103.168 131.621 Q101.27 133.403 101.27 136.528 Q101.27 139.653 103.168 141.436 Q105.089 143.218 108.422 143.218 Q111.756 143.218 113.677 141.436 Q115.598 139.63 115.598 136.528 Q115.598 133.403 113.677 131.621 Q111.779 129.839 108.422 129.839 M103.746 127.848 Q100.737 127.107 99.0474 125.047 Q97.3808 122.987 97.3808 120.024 Q97.3808 115.88 100.321 113.473 Q103.284 111.066 108.422 111.066 Q113.584 111.066 116.524 113.473 Q119.464 115.88 119.464 120.024 Q119.464 122.987 117.774 125.047 Q116.108 127.107 113.121 127.848 Q116.501 128.635 118.376 130.927 Q120.274 133.218 120.274 136.528 Q120.274 141.551 117.195 144.237 Q114.14 146.922 108.422 146.922 Q102.705 146.922 99.6261 144.237 Q96.5706 141.551 96.5706 136.528 Q96.5706 133.218 98.4687 130.927 Q100.367 128.635 103.746 127.848 M102.034 120.464 Q102.034 123.149 103.7 124.653 Q105.39 126.158 108.422 126.158 Q111.432 126.158 113.121 124.653 Q114.834 123.149 114.834 120.464 Q114.834 117.778 113.121 116.274 Q111.432 114.769 108.422 114.769 Q105.39 114.769 103.7 116.274 Q102.034 117.778 102.034 120.464 Z\" fill=\"#000000\" fill-rule=\"nonzero\" fill-opacity=\"1\" /><circle clip-path=\"url(#clip962)\" cx=\"218.439\" cy=\"87.9763\" r=\"14.4\" fill=\"#009af9\" fill-rule=\"evenodd\" fill-opacity=\"1\" stroke=\"#000000\" stroke-opacity=\"1\" stroke-width=\"3.2\"/>\n",
       "<circle clip-path=\"url(#clip962)\" cx=\"425.654\" cy=\"199.74\" r=\"14.4\" fill=\"#009af9\" fill-rule=\"evenodd\" fill-opacity=\"1\" stroke=\"#000000\" stroke-opacity=\"1\" stroke-width=\"3.2\"/>\n",
       "<circle clip-path=\"url(#clip962)\" cx=\"632.869\" cy=\"555.033\" r=\"14.4\" fill=\"#009af9\" fill-rule=\"evenodd\" fill-opacity=\"1\" stroke=\"#000000\" stroke-opacity=\"1\" stroke-width=\"3.2\"/>\n",
       "<circle clip-path=\"url(#clip962)\" cx=\"840.085\" cy=\"643.965\" r=\"14.4\" fill=\"#009af9\" fill-rule=\"evenodd\" fill-opacity=\"1\" stroke=\"#000000\" stroke-opacity=\"1\" stroke-width=\"3.2\"/>\n",
       "<circle clip-path=\"url(#clip962)\" cx=\"1047.3\" cy=\"959.469\" r=\"14.4\" fill=\"#009af9\" fill-rule=\"evenodd\" fill-opacity=\"1\" stroke=\"#000000\" stroke-opacity=\"1\" stroke-width=\"3.2\"/>\n",
       "<circle clip-path=\"url(#clip962)\" cx=\"1254.52\" cy=\"1274.19\" r=\"14.4\" fill=\"#009af9\" fill-rule=\"evenodd\" fill-opacity=\"1\" stroke=\"#000000\" stroke-opacity=\"1\" stroke-width=\"3.2\"/>\n",
       "<circle clip-path=\"url(#clip962)\" cx=\"1461.73\" cy=\"1124.43\" r=\"14.4\" fill=\"#009af9\" fill-rule=\"evenodd\" fill-opacity=\"1\" stroke=\"#000000\" stroke-opacity=\"1\" stroke-width=\"3.2\"/>\n",
       "<circle clip-path=\"url(#clip962)\" cx=\"1668.95\" cy=\"1374.98\" r=\"14.4\" fill=\"#009af9\" fill-rule=\"evenodd\" fill-opacity=\"1\" stroke=\"#000000\" stroke-opacity=\"1\" stroke-width=\"3.2\"/>\n",
       "<circle clip-path=\"url(#clip962)\" cx=\"1876.16\" cy=\"1330.06\" r=\"14.4\" fill=\"#009af9\" fill-rule=\"evenodd\" fill-opacity=\"1\" stroke=\"#000000\" stroke-opacity=\"1\" stroke-width=\"3.2\"/>\n",
       "<circle clip-path=\"url(#clip962)\" cx=\"2083.38\" cy=\"1434.22\" r=\"14.4\" fill=\"#009af9\" fill-rule=\"evenodd\" fill-opacity=\"1\" stroke=\"#000000\" stroke-opacity=\"1\" stroke-width=\"3.2\"/>\n",
       "<circle clip-path=\"url(#clip962)\" cx=\"2290.59\" cy=\"1445.72\" r=\"14.4\" fill=\"#009af9\" fill-rule=\"evenodd\" fill-opacity=\"1\" stroke=\"#000000\" stroke-opacity=\"1\" stroke-width=\"3.2\"/>\n",
       "<path clip-path=\"url(#clip960)\" d=\"M2007.46 198.898 L2279.54 198.898 L2279.54 95.2176 L2007.46 95.2176  Z\" fill=\"#ffffff\" fill-rule=\"evenodd\" fill-opacity=\"1\"/>\n",
       "<polyline clip-path=\"url(#clip960)\" style=\"stroke:#000000; stroke-linecap:round; stroke-linejoin:round; stroke-width:4; stroke-opacity:1; fill:none\" points=\"2007.46,198.898 2279.54,198.898 2279.54,95.2176 2007.46,95.2176 2007.46,198.898 \"/>\n",
       "<circle clip-path=\"url(#clip960)\" cx=\"2105.08\" cy=\"147.058\" r=\"20.48\" fill=\"#009af9\" fill-rule=\"evenodd\" fill-opacity=\"1\" stroke=\"#000000\" stroke-opacity=\"1\" stroke-width=\"4.55111\"/>\n",
       "<path clip-path=\"url(#clip960)\" d=\"M2216.55 166.745 Q2214.74 171.375 2213.03 172.787 Q2211.32 174.199 2208.44 174.199 L2205.04 174.199 L2205.04 170.634 L2207.54 170.634 Q2209.3 170.634 2210.27 169.8 Q2211.25 168.967 2212.43 165.865 L2213.19 163.921 L2202.7 138.412 L2207.22 138.412 L2215.32 158.689 L2223.42 138.412 L2227.94 138.412 L2216.55 166.745 Z\" fill=\"#000000\" fill-rule=\"nonzero\" fill-opacity=\"1\" /><path clip-path=\"url(#clip960)\" d=\"M2235.23 160.402 L2242.87 160.402 L2242.87 134.037 L2234.56 135.703 L2234.56 131.444 L2242.82 129.778 L2247.5 129.778 L2247.5 160.402 L2255.13 160.402 L2255.13 164.338 L2235.23 164.338 L2235.23 160.402 Z\" fill=\"#000000\" fill-rule=\"nonzero\" fill-opacity=\"1\" /></svg>\n"
      ],
      "text/html": [
       "<?xml version=\"1.0\" encoding=\"utf-8\"?>\n",
       "<svg xmlns=\"http://www.w3.org/2000/svg\" xmlns:xlink=\"http://www.w3.org/1999/xlink\" width=\"600\" height=\"400\" viewBox=\"0 0 2400 1600\">\n",
       "<defs>\n",
       "  <clipPath id=\"clip010\">\n",
       "    <rect x=\"0\" y=\"0\" width=\"2400\" height=\"1600\"/>\n",
       "  </clipPath>\n",
       "</defs>\n",
       "<path clip-path=\"url(#clip010)\" d=\"M0 1600 L2400 1600 L2400 8.88178e-14 L0 8.88178e-14  Z\" fill=\"#ffffff\" fill-rule=\"evenodd\" fill-opacity=\"1\"/>\n",
       "<defs>\n",
       "  <clipPath id=\"clip011\">\n",
       "    <rect x=\"480\" y=\"0\" width=\"1681\" height=\"1600\"/>\n",
       "  </clipPath>\n",
       "</defs>\n",
       "<path clip-path=\"url(#clip010)\" d=\"M156.274 1486.45 L2352.76 1486.45 L2352.76 47.2441 L156.274 47.2441  Z\" fill=\"#ffffff\" fill-rule=\"evenodd\" fill-opacity=\"1\"/>\n",
       "<defs>\n",
       "  <clipPath id=\"clip012\">\n",
       "    <rect x=\"156\" y=\"47\" width=\"2197\" height=\"1440\"/>\n",
       "  </clipPath>\n",
       "</defs>\n",
       "<polyline clip-path=\"url(#clip012)\" style=\"stroke:#000000; stroke-linecap:round; stroke-linejoin:round; stroke-width:2; stroke-opacity:0.1; fill:none\" points=\"218.439,1486.45 218.439,47.2441 \"/>\n",
       "<polyline clip-path=\"url(#clip012)\" style=\"stroke:#000000; stroke-linecap:round; stroke-linejoin:round; stroke-width:2; stroke-opacity:0.1; fill:none\" points=\"736.477,1486.45 736.477,47.2441 \"/>\n",
       "<polyline clip-path=\"url(#clip012)\" style=\"stroke:#000000; stroke-linecap:round; stroke-linejoin:round; stroke-width:2; stroke-opacity:0.1; fill:none\" points=\"1254.52,1486.45 1254.52,47.2441 \"/>\n",
       "<polyline clip-path=\"url(#clip012)\" style=\"stroke:#000000; stroke-linecap:round; stroke-linejoin:round; stroke-width:2; stroke-opacity:0.1; fill:none\" points=\"1772.55,1486.45 1772.55,47.2441 \"/>\n",
       "<polyline clip-path=\"url(#clip012)\" style=\"stroke:#000000; stroke-linecap:round; stroke-linejoin:round; stroke-width:2; stroke-opacity:0.1; fill:none\" points=\"2290.59,1486.45 2290.59,47.2441 \"/>\n",
       "<polyline clip-path=\"url(#clip012)\" style=\"stroke:#000000; stroke-linecap:round; stroke-linejoin:round; stroke-width:2; stroke-opacity:0.1; fill:none\" points=\"156.274,1225.77 2352.76,1225.77 \"/>\n",
       "<polyline clip-path=\"url(#clip012)\" style=\"stroke:#000000; stroke-linecap:round; stroke-linejoin:round; stroke-width:2; stroke-opacity:0.1; fill:none\" points=\"156.274,951.571 2352.76,951.571 \"/>\n",
       "<polyline clip-path=\"url(#clip012)\" style=\"stroke:#000000; stroke-linecap:round; stroke-linejoin:round; stroke-width:2; stroke-opacity:0.1; fill:none\" points=\"156.274,677.371 2352.76,677.371 \"/>\n",
       "<polyline clip-path=\"url(#clip012)\" style=\"stroke:#000000; stroke-linecap:round; stroke-linejoin:round; stroke-width:2; stroke-opacity:0.1; fill:none\" points=\"156.274,403.171 2352.76,403.171 \"/>\n",
       "<polyline clip-path=\"url(#clip012)\" style=\"stroke:#000000; stroke-linecap:round; stroke-linejoin:round; stroke-width:2; stroke-opacity:0.1; fill:none\" points=\"156.274,128.971 2352.76,128.971 \"/>\n",
       "<polyline clip-path=\"url(#clip010)\" style=\"stroke:#000000; stroke-linecap:round; stroke-linejoin:round; stroke-width:4; stroke-opacity:1; fill:none\" points=\"156.274,1486.45 2352.76,1486.45 \"/>\n",
       "<polyline clip-path=\"url(#clip010)\" style=\"stroke:#000000; stroke-linecap:round; stroke-linejoin:round; stroke-width:4; stroke-opacity:1; fill:none\" points=\"218.439,1486.45 218.439,1467.55 \"/>\n",
       "<polyline clip-path=\"url(#clip010)\" style=\"stroke:#000000; stroke-linecap:round; stroke-linejoin:round; stroke-width:4; stroke-opacity:1; fill:none\" points=\"736.477,1486.45 736.477,1467.55 \"/>\n",
       "<polyline clip-path=\"url(#clip010)\" style=\"stroke:#000000; stroke-linecap:round; stroke-linejoin:round; stroke-width:4; stroke-opacity:1; fill:none\" points=\"1254.52,1486.45 1254.52,1467.55 \"/>\n",
       "<polyline clip-path=\"url(#clip010)\" style=\"stroke:#000000; stroke-linecap:round; stroke-linejoin:round; stroke-width:4; stroke-opacity:1; fill:none\" points=\"1772.55,1486.45 1772.55,1467.55 \"/>\n",
       "<polyline clip-path=\"url(#clip010)\" style=\"stroke:#000000; stroke-linecap:round; stroke-linejoin:round; stroke-width:4; stroke-opacity:1; fill:none\" points=\"2290.59,1486.45 2290.59,1467.55 \"/>\n",
       "<path clip-path=\"url(#clip010)\" d=\"M180.742 1517.37 Q177.131 1517.37 175.302 1520.93 Q173.497 1524.47 173.497 1531.6 Q173.497 1538.71 175.302 1542.27 Q177.131 1545.82 180.742 1545.82 Q184.376 1545.82 186.182 1542.27 Q188.011 1538.71 188.011 1531.6 Q188.011 1524.47 186.182 1520.93 Q184.376 1517.37 180.742 1517.37 M180.742 1513.66 Q186.552 1513.66 189.608 1518.27 Q192.687 1522.85 192.687 1531.6 Q192.687 1540.33 189.608 1544.94 Q186.552 1549.52 180.742 1549.52 Q174.932 1549.52 171.853 1544.94 Q168.798 1540.33 168.798 1531.6 Q168.798 1522.85 171.853 1518.27 Q174.932 1513.66 180.742 1513.66 Z\" fill=\"#000000\" fill-rule=\"nonzero\" fill-opacity=\"1\" /><path clip-path=\"url(#clip010)\" d=\"M200.904 1542.97 L205.788 1542.97 L205.788 1548.85 L200.904 1548.85 L200.904 1542.97 Z\" fill=\"#000000\" fill-rule=\"nonzero\" fill-opacity=\"1\" /><path clip-path=\"url(#clip010)\" d=\"M225.973 1517.37 Q222.362 1517.37 220.534 1520.93 Q218.728 1524.47 218.728 1531.6 Q218.728 1538.71 220.534 1542.27 Q222.362 1545.82 225.973 1545.82 Q229.608 1545.82 231.413 1542.27 Q233.242 1538.71 233.242 1531.6 Q233.242 1524.47 231.413 1520.93 Q229.608 1517.37 225.973 1517.37 M225.973 1513.66 Q231.784 1513.66 234.839 1518.27 Q237.918 1522.85 237.918 1531.6 Q237.918 1540.33 234.839 1544.94 Q231.784 1549.52 225.973 1549.52 Q220.163 1549.52 217.085 1544.94 Q214.029 1540.33 214.029 1531.6 Q214.029 1522.85 217.085 1518.27 Q220.163 1513.66 225.973 1513.66 Z\" fill=\"#000000\" fill-rule=\"nonzero\" fill-opacity=\"1\" /><path clip-path=\"url(#clip010)\" d=\"M256.135 1517.37 Q252.524 1517.37 250.696 1520.93 Q248.89 1524.47 248.89 1531.6 Q248.89 1538.71 250.696 1542.27 Q252.524 1545.82 256.135 1545.82 Q259.77 1545.82 261.575 1542.27 Q263.404 1538.71 263.404 1531.6 Q263.404 1524.47 261.575 1520.93 Q259.77 1517.37 256.135 1517.37 M256.135 1513.66 Q261.945 1513.66 265.001 1518.27 Q268.08 1522.85 268.08 1531.6 Q268.08 1540.33 265.001 1544.94 Q261.945 1549.52 256.135 1549.52 Q250.325 1549.52 247.246 1544.94 Q244.191 1540.33 244.191 1531.6 Q244.191 1522.85 247.246 1518.27 Q250.325 1513.66 256.135 1513.66 Z\" fill=\"#000000\" fill-rule=\"nonzero\" fill-opacity=\"1\" /><path clip-path=\"url(#clip010)\" d=\"M699.278 1517.37 Q695.667 1517.37 693.838 1520.93 Q692.033 1524.47 692.033 1531.6 Q692.033 1538.71 693.838 1542.27 Q695.667 1545.82 699.278 1545.82 Q702.912 1545.82 704.718 1542.27 Q706.546 1538.71 706.546 1531.6 Q706.546 1524.47 704.718 1520.93 Q702.912 1517.37 699.278 1517.37 M699.278 1513.66 Q705.088 1513.66 708.144 1518.27 Q711.222 1522.85 711.222 1531.6 Q711.222 1540.33 708.144 1544.94 Q705.088 1549.52 699.278 1549.52 Q693.468 1549.52 690.389 1544.94 Q687.334 1540.33 687.334 1531.6 Q687.334 1522.85 690.389 1518.27 Q693.468 1513.66 699.278 1513.66 Z\" fill=\"#000000\" fill-rule=\"nonzero\" fill-opacity=\"1\" /><path clip-path=\"url(#clip010)\" d=\"M719.44 1542.97 L724.324 1542.97 L724.324 1548.85 L719.44 1548.85 L719.44 1542.97 Z\" fill=\"#000000\" fill-rule=\"nonzero\" fill-opacity=\"1\" /><path clip-path=\"url(#clip010)\" d=\"M738.537 1544.91 L754.856 1544.91 L754.856 1548.85 L732.912 1548.85 L732.912 1544.91 Q735.574 1542.16 740.157 1537.53 Q744.764 1532.88 745.944 1531.53 Q748.19 1529.01 749.069 1527.27 Q749.972 1525.51 749.972 1523.82 Q749.972 1521.07 748.028 1519.33 Q746.106 1517.6 743.005 1517.6 Q740.806 1517.6 738.352 1518.36 Q735.921 1519.13 733.144 1520.68 L733.144 1515.95 Q735.968 1514.82 738.421 1514.24 Q740.875 1513.66 742.912 1513.66 Q748.282 1513.66 751.477 1516.35 Q754.671 1519.03 754.671 1523.52 Q754.671 1525.65 753.861 1527.57 Q753.074 1529.47 750.968 1532.07 Q750.389 1532.74 747.287 1535.95 Q744.185 1539.15 738.537 1544.91 Z\" fill=\"#000000\" fill-rule=\"nonzero\" fill-opacity=\"1\" /><path clip-path=\"url(#clip010)\" d=\"M764.717 1514.29 L783.074 1514.29 L783.074 1518.22 L769 1518.22 L769 1526.7 Q770.018 1526.35 771.037 1526.19 Q772.055 1526 773.074 1526 Q778.861 1526 782.241 1529.17 Q785.62 1532.34 785.62 1537.76 Q785.62 1543.34 782.148 1546.44 Q778.676 1549.52 772.356 1549.52 Q770.18 1549.52 767.912 1549.15 Q765.667 1548.78 763.259 1548.04 L763.259 1543.34 Q765.342 1544.47 767.565 1545.03 Q769.787 1545.58 772.264 1545.58 Q776.268 1545.58 778.606 1543.48 Q780.944 1541.37 780.944 1537.76 Q780.944 1534.15 778.606 1532.04 Q776.268 1529.94 772.264 1529.94 Q770.389 1529.94 768.514 1530.35 Q766.662 1530.77 764.717 1531.65 L764.717 1514.29 Z\" fill=\"#000000\" fill-rule=\"nonzero\" fill-opacity=\"1\" /><path clip-path=\"url(#clip010)\" d=\"M1216.82 1517.37 Q1213.21 1517.37 1211.38 1520.93 Q1209.57 1524.47 1209.57 1531.6 Q1209.57 1538.71 1211.38 1542.27 Q1213.21 1545.82 1216.82 1545.82 Q1220.45 1545.82 1222.26 1542.27 Q1224.09 1538.71 1224.09 1531.6 Q1224.09 1524.47 1222.26 1520.93 Q1220.45 1517.37 1216.82 1517.37 M1216.82 1513.66 Q1222.63 1513.66 1225.68 1518.27 Q1228.76 1522.85 1228.76 1531.6 Q1228.76 1540.33 1225.68 1544.94 Q1222.63 1549.52 1216.82 1549.52 Q1211.01 1549.52 1207.93 1544.94 Q1204.87 1540.33 1204.87 1531.6 Q1204.87 1522.85 1207.93 1518.27 Q1211.01 1513.66 1216.82 1513.66 Z\" fill=\"#000000\" fill-rule=\"nonzero\" fill-opacity=\"1\" /><path clip-path=\"url(#clip010)\" d=\"M1236.98 1542.97 L1241.86 1542.97 L1241.86 1548.85 L1236.98 1548.85 L1236.98 1542.97 Z\" fill=\"#000000\" fill-rule=\"nonzero\" fill-opacity=\"1\" /><path clip-path=\"url(#clip010)\" d=\"M1252.1 1514.29 L1270.45 1514.29 L1270.45 1518.22 L1256.38 1518.22 L1256.38 1526.7 Q1257.4 1526.35 1258.42 1526.19 Q1259.43 1526 1260.45 1526 Q1266.24 1526 1269.62 1529.17 Q1273 1532.34 1273 1537.76 Q1273 1543.34 1269.53 1546.44 Q1266.05 1549.52 1259.73 1549.52 Q1257.56 1549.52 1255.29 1549.15 Q1253.05 1548.78 1250.64 1548.04 L1250.64 1543.34 Q1252.72 1544.47 1254.94 1545.03 Q1257.17 1545.58 1259.64 1545.58 Q1263.65 1545.58 1265.98 1543.48 Q1268.32 1541.37 1268.32 1537.76 Q1268.32 1534.15 1265.98 1532.04 Q1263.65 1529.94 1259.64 1529.94 Q1257.77 1529.94 1255.89 1530.35 Q1254.04 1530.77 1252.1 1531.65 L1252.1 1514.29 Z\" fill=\"#000000\" fill-rule=\"nonzero\" fill-opacity=\"1\" /><path clip-path=\"url(#clip010)\" d=\"M1292.21 1517.37 Q1288.6 1517.37 1286.77 1520.93 Q1284.97 1524.47 1284.97 1531.6 Q1284.97 1538.71 1286.77 1542.27 Q1288.6 1545.82 1292.21 1545.82 Q1295.85 1545.82 1297.65 1542.27 Q1299.48 1538.71 1299.48 1531.6 Q1299.48 1524.47 1297.65 1520.93 Q1295.85 1517.37 1292.21 1517.37 M1292.21 1513.66 Q1298.02 1513.66 1301.08 1518.27 Q1304.16 1522.85 1304.16 1531.6 Q1304.16 1540.33 1301.08 1544.94 Q1298.02 1549.52 1292.21 1549.52 Q1286.4 1549.52 1283.32 1544.94 Q1280.27 1540.33 1280.27 1531.6 Q1280.27 1522.85 1283.32 1518.27 Q1286.4 1513.66 1292.21 1513.66 Z\" fill=\"#000000\" fill-rule=\"nonzero\" fill-opacity=\"1\" /><path clip-path=\"url(#clip010)\" d=\"M1735.35 1517.37 Q1731.74 1517.37 1729.91 1520.93 Q1728.11 1524.47 1728.11 1531.6 Q1728.11 1538.71 1729.91 1542.27 Q1731.74 1545.82 1735.35 1545.82 Q1738.99 1545.82 1740.79 1542.27 Q1742.62 1538.71 1742.62 1531.6 Q1742.62 1524.47 1740.79 1520.93 Q1738.99 1517.37 1735.35 1517.37 M1735.35 1513.66 Q1741.16 1513.66 1744.22 1518.27 Q1747.3 1522.85 1747.3 1531.6 Q1747.3 1540.33 1744.22 1544.94 Q1741.16 1549.52 1735.35 1549.52 Q1729.54 1549.52 1726.47 1544.94 Q1723.41 1540.33 1723.41 1531.6 Q1723.41 1522.85 1726.47 1518.27 Q1729.54 1513.66 1735.35 1513.66 Z\" fill=\"#000000\" fill-rule=\"nonzero\" fill-opacity=\"1\" /><path clip-path=\"url(#clip010)\" d=\"M1755.52 1542.97 L1760.4 1542.97 L1760.4 1548.85 L1755.52 1548.85 L1755.52 1542.97 Z\" fill=\"#000000\" fill-rule=\"nonzero\" fill-opacity=\"1\" /><path clip-path=\"url(#clip010)\" d=\"M1769.41 1514.29 L1791.63 1514.29 L1791.63 1516.28 L1779.08 1548.85 L1774.2 1548.85 L1786 1518.22 L1769.41 1518.22 L1769.41 1514.29 Z\" fill=\"#000000\" fill-rule=\"nonzero\" fill-opacity=\"1\" /><path clip-path=\"url(#clip010)\" d=\"M1800.79 1514.29 L1819.15 1514.29 L1819.15 1518.22 L1805.08 1518.22 L1805.08 1526.7 Q1806.09 1526.35 1807.11 1526.19 Q1808.13 1526 1809.15 1526 Q1814.94 1526 1818.32 1529.17 Q1821.7 1532.34 1821.7 1537.76 Q1821.7 1543.34 1818.22 1546.44 Q1814.75 1549.52 1808.43 1549.52 Q1806.26 1549.52 1803.99 1549.15 Q1801.74 1548.78 1799.34 1548.04 L1799.34 1543.34 Q1801.42 1544.47 1803.64 1545.03 Q1805.86 1545.58 1808.34 1545.58 Q1812.34 1545.58 1814.68 1543.48 Q1817.02 1541.37 1817.02 1537.76 Q1817.02 1534.15 1814.68 1532.04 Q1812.34 1529.94 1808.34 1529.94 Q1806.47 1529.94 1804.59 1530.35 Q1802.74 1530.77 1800.79 1531.65 L1800.79 1514.29 Z\" fill=\"#000000\" fill-rule=\"nonzero\" fill-opacity=\"1\" /><path clip-path=\"url(#clip010)\" d=\"M2242.66 1544.91 L2250.3 1544.91 L2250.3 1518.55 L2241.99 1520.21 L2241.99 1515.95 L2250.26 1514.29 L2254.93 1514.29 L2254.93 1544.91 L2262.57 1544.91 L2262.57 1548.85 L2242.66 1548.85 L2242.66 1544.91 Z\" fill=\"#000000\" fill-rule=\"nonzero\" fill-opacity=\"1\" /><path clip-path=\"url(#clip010)\" d=\"M2272.02 1542.97 L2276.9 1542.97 L2276.9 1548.85 L2272.02 1548.85 L2272.02 1542.97 Z\" fill=\"#000000\" fill-rule=\"nonzero\" fill-opacity=\"1\" /><path clip-path=\"url(#clip010)\" d=\"M2297.08 1517.37 Q2293.47 1517.37 2291.64 1520.93 Q2289.84 1524.47 2289.84 1531.6 Q2289.84 1538.71 2291.64 1542.27 Q2293.47 1545.82 2297.08 1545.82 Q2300.72 1545.82 2302.52 1542.27 Q2304.35 1538.71 2304.35 1531.6 Q2304.35 1524.47 2302.52 1520.93 Q2300.72 1517.37 2297.08 1517.37 M2297.08 1513.66 Q2302.89 1513.66 2305.95 1518.27 Q2309.03 1522.85 2309.03 1531.6 Q2309.03 1540.33 2305.95 1544.94 Q2302.89 1549.52 2297.08 1549.52 Q2291.27 1549.52 2288.2 1544.94 Q2285.14 1540.33 2285.14 1531.6 Q2285.14 1522.85 2288.2 1518.27 Q2291.27 1513.66 2297.08 1513.66 Z\" fill=\"#000000\" fill-rule=\"nonzero\" fill-opacity=\"1\" /><path clip-path=\"url(#clip010)\" d=\"M2327.25 1517.37 Q2323.64 1517.37 2321.81 1520.93 Q2320 1524.47 2320 1531.6 Q2320 1538.71 2321.81 1542.27 Q2323.64 1545.82 2327.25 1545.82 Q2330.88 1545.82 2332.69 1542.27 Q2334.51 1538.71 2334.51 1531.6 Q2334.51 1524.47 2332.69 1520.93 Q2330.88 1517.37 2327.25 1517.37 M2327.25 1513.66 Q2333.06 1513.66 2336.11 1518.27 Q2339.19 1522.85 2339.19 1531.6 Q2339.19 1540.33 2336.11 1544.94 Q2333.06 1549.52 2327.25 1549.52 Q2321.44 1549.52 2318.36 1544.94 Q2315.3 1540.33 2315.3 1531.6 Q2315.3 1522.85 2318.36 1518.27 Q2321.44 1513.66 2327.25 1513.66 Z\" fill=\"#000000\" fill-rule=\"nonzero\" fill-opacity=\"1\" /><polyline clip-path=\"url(#clip010)\" style=\"stroke:#000000; stroke-linecap:round; stroke-linejoin:round; stroke-width:4; stroke-opacity:1; fill:none\" points=\"156.274,1486.45 156.274,47.2441 \"/>\n",
       "<polyline clip-path=\"url(#clip010)\" style=\"stroke:#000000; stroke-linecap:round; stroke-linejoin:round; stroke-width:4; stroke-opacity:1; fill:none\" points=\"156.274,1225.77 175.172,1225.77 \"/>\n",
       "<polyline clip-path=\"url(#clip010)\" style=\"stroke:#000000; stroke-linecap:round; stroke-linejoin:round; stroke-width:4; stroke-opacity:1; fill:none\" points=\"156.274,951.571 175.172,951.571 \"/>\n",
       "<polyline clip-path=\"url(#clip010)\" style=\"stroke:#000000; stroke-linecap:round; stroke-linejoin:round; stroke-width:4; stroke-opacity:1; fill:none\" points=\"156.274,677.371 175.172,677.371 \"/>\n",
       "<polyline clip-path=\"url(#clip010)\" style=\"stroke:#000000; stroke-linecap:round; stroke-linejoin:round; stroke-width:4; stroke-opacity:1; fill:none\" points=\"156.274,403.171 175.172,403.171 \"/>\n",
       "<polyline clip-path=\"url(#clip010)\" style=\"stroke:#000000; stroke-linecap:round; stroke-linejoin:round; stroke-width:4; stroke-opacity:1; fill:none\" points=\"156.274,128.971 175.172,128.971 \"/>\n",
       "<path clip-path=\"url(#clip010)\" d=\"M62.9365 1211.57 Q59.3254 1211.57 57.4967 1215.13 Q55.6912 1218.68 55.6912 1225.81 Q55.6912 1232.91 57.4967 1236.48 Q59.3254 1240.02 62.9365 1240.02 Q66.5707 1240.02 68.3763 1236.48 Q70.205 1232.91 70.205 1225.81 Q70.205 1218.68 68.3763 1215.13 Q66.5707 1211.57 62.9365 1211.57 M62.9365 1207.87 Q68.7467 1207.87 71.8022 1212.47 Q74.8809 1217.06 74.8809 1225.81 Q74.8809 1234.53 71.8022 1239.14 Q68.7467 1243.72 62.9365 1243.72 Q57.1264 1243.72 54.0477 1239.14 Q50.9921 1234.53 50.9921 1225.81 Q50.9921 1217.06 54.0477 1212.47 Q57.1264 1207.87 62.9365 1207.87 Z\" fill=\"#000000\" fill-rule=\"nonzero\" fill-opacity=\"1\" /><path clip-path=\"url(#clip010)\" d=\"M83.0984 1237.17 L87.9827 1237.17 L87.9827 1243.05 L83.0984 1243.05 L83.0984 1237.17 Z\" fill=\"#000000\" fill-rule=\"nonzero\" fill-opacity=\"1\" /><path clip-path=\"url(#clip010)\" d=\"M108.746 1223.91 Q105.598 1223.91 103.746 1226.06 Q101.918 1228.21 101.918 1231.96 Q101.918 1235.69 103.746 1237.87 Q105.598 1240.02 108.746 1240.02 Q111.895 1240.02 113.723 1237.87 Q115.575 1235.69 115.575 1231.96 Q115.575 1228.21 113.723 1226.06 Q111.895 1223.91 108.746 1223.91 M118.029 1209.25 L118.029 1213.51 Q116.27 1212.68 114.464 1212.24 Q112.682 1211.8 110.922 1211.8 Q106.293 1211.8 103.839 1214.93 Q101.409 1218.05 101.061 1224.37 Q102.427 1222.36 104.487 1221.29 Q106.547 1220.2 109.024 1220.2 Q114.233 1220.2 117.242 1223.37 Q120.274 1226.52 120.274 1231.96 Q120.274 1237.29 117.126 1240.5 Q113.978 1243.72 108.746 1243.72 Q102.751 1243.72 99.5798 1239.14 Q96.4085 1234.53 96.4085 1225.81 Q96.4085 1217.61 100.297 1212.75 Q104.186 1207.87 110.737 1207.87 Q112.496 1207.87 114.279 1208.21 Q116.084 1208.56 118.029 1209.25 Z\" fill=\"#000000\" fill-rule=\"nonzero\" fill-opacity=\"1\" /><path clip-path=\"url(#clip010)\" d=\"M63.2837 937.369 Q59.6726 937.369 57.8439 940.934 Q56.0384 944.476 56.0384 951.605 Q56.0384 958.712 57.8439 962.277 Q59.6726 965.818 63.2837 965.818 Q66.918 965.818 68.7235 962.277 Q70.5522 958.712 70.5522 951.605 Q70.5522 944.476 68.7235 940.934 Q66.918 937.369 63.2837 937.369 M63.2837 933.666 Q69.0939 933.666 72.1494 938.272 Q75.2281 942.855 75.2281 951.605 Q75.2281 960.332 72.1494 964.939 Q69.0939 969.522 63.2837 969.522 Q57.4736 969.522 54.3949 964.939 Q51.3393 960.332 51.3393 951.605 Q51.3393 942.855 54.3949 938.272 Q57.4736 933.666 63.2837 933.666 Z\" fill=\"#000000\" fill-rule=\"nonzero\" fill-opacity=\"1\" /><path clip-path=\"url(#clip010)\" d=\"M83.4457 962.971 L88.3299 962.971 L88.3299 968.851 L83.4457 968.851 L83.4457 962.971 Z\" fill=\"#000000\" fill-rule=\"nonzero\" fill-opacity=\"1\" /><path clip-path=\"url(#clip010)\" d=\"M98.6539 968.133 L98.6539 963.874 Q100.413 964.707 102.219 965.147 Q104.024 965.587 105.76 965.587 Q110.39 965.587 112.82 962.485 Q115.274 959.36 115.621 953.017 Q114.279 955.008 112.219 956.073 Q110.158 957.138 107.658 957.138 Q102.473 957.138 99.4409 954.013 Q96.4317 950.865 96.4317 945.425 Q96.4317 940.101 99.5798 936.883 Q102.728 933.666 107.959 933.666 Q113.955 933.666 117.103 938.272 Q120.274 942.855 120.274 951.605 Q120.274 959.777 116.385 964.661 Q112.52 969.522 105.969 969.522 Q104.209 969.522 102.404 969.175 Q100.598 968.827 98.6539 968.133 M107.959 953.48 Q111.108 953.48 112.936 951.327 Q114.788 949.175 114.788 945.425 Q114.788 941.698 112.936 939.545 Q111.108 937.369 107.959 937.369 Q104.811 937.369 102.959 939.545 Q101.131 941.698 101.131 945.425 Q101.131 949.175 102.959 951.327 Q104.811 953.48 107.959 953.48 Z\" fill=\"#000000\" fill-rule=\"nonzero\" fill-opacity=\"1\" /><path clip-path=\"url(#clip010)\" d=\"M55.506 690.715 L63.1448 690.715 L63.1448 664.35 L54.8347 666.016 L54.8347 661.757 L63.0985 660.091 L67.7744 660.091 L67.7744 690.715 L75.4133 690.715 L75.4133 694.651 L55.506 694.651 L55.506 690.715 Z\" fill=\"#000000\" fill-rule=\"nonzero\" fill-opacity=\"1\" /><path clip-path=\"url(#clip010)\" d=\"M84.8577 688.771 L89.7419 688.771 L89.7419 694.651 L84.8577 694.651 L84.8577 688.771 Z\" fill=\"#000000\" fill-rule=\"nonzero\" fill-opacity=\"1\" /><path clip-path=\"url(#clip010)\" d=\"M103.955 690.715 L120.274 690.715 L120.274 694.651 L98.3298 694.651 L98.3298 690.715 Q100.992 687.961 105.575 683.331 Q110.182 678.678 111.362 677.336 Q113.608 674.813 114.487 673.077 Q115.39 671.317 115.39 669.628 Q115.39 666.873 113.445 665.137 Q111.524 663.401 108.422 663.401 Q106.223 663.401 103.77 664.165 Q101.339 664.928 98.5613 666.479 L98.5613 661.757 Q101.385 660.623 103.839 660.044 Q106.293 659.466 108.33 659.466 Q113.7 659.466 116.895 662.151 Q120.089 664.836 120.089 669.327 Q120.089 671.456 119.279 673.378 Q118.492 675.276 116.385 677.868 Q115.807 678.54 112.705 681.757 Q109.603 684.952 103.955 690.715 Z\" fill=\"#000000\" fill-rule=\"nonzero\" fill-opacity=\"1\" /><path clip-path=\"url(#clip010)\" d=\"M54.9041 416.515 L62.543 416.515 L62.543 390.15 L54.2328 391.816 L54.2328 387.557 L62.4967 385.891 L67.1726 385.891 L67.1726 416.515 L74.8114 416.515 L74.8114 420.451 L54.9041 420.451 L54.9041 416.515 Z\" fill=\"#000000\" fill-rule=\"nonzero\" fill-opacity=\"1\" /><path clip-path=\"url(#clip010)\" d=\"M84.2558 414.571 L89.1401 414.571 L89.1401 420.451 L84.2558 420.451 L84.2558 414.571 Z\" fill=\"#000000\" fill-rule=\"nonzero\" fill-opacity=\"1\" /><path clip-path=\"url(#clip010)\" d=\"M99.3715 385.891 L117.728 385.891 L117.728 389.826 L103.654 389.826 L103.654 398.298 Q104.672 397.951 105.691 397.789 Q106.709 397.603 107.728 397.603 Q113.515 397.603 116.895 400.775 Q120.274 403.946 120.274 409.363 Q120.274 414.941 116.802 418.043 Q113.33 421.122 107.01 421.122 Q104.834 421.122 102.566 420.751 Q100.321 420.381 97.9132 419.64 L97.9132 414.941 Q99.9965 416.076 102.219 416.631 Q104.441 417.187 106.918 417.187 Q110.922 417.187 113.26 415.08 Q115.598 412.974 115.598 409.363 Q115.598 405.752 113.26 403.645 Q110.922 401.539 106.918 401.539 Q105.043 401.539 103.168 401.955 Q101.316 402.372 99.3715 403.252 L99.3715 385.891 Z\" fill=\"#000000\" fill-rule=\"nonzero\" fill-opacity=\"1\" /><path clip-path=\"url(#clip010)\" d=\"M54.0014 142.315 L61.6402 142.315 L61.6402 115.95 L53.3301 117.616 L53.3301 113.357 L61.5939 111.691 L66.2698 111.691 L66.2698 142.315 L73.9087 142.315 L73.9087 146.251 L54.0014 146.251 L54.0014 142.315 Z\" fill=\"#000000\" fill-rule=\"nonzero\" fill-opacity=\"1\" /><path clip-path=\"url(#clip010)\" d=\"M83.3531 140.371 L88.2373 140.371 L88.2373 146.251 L83.3531 146.251 L83.3531 140.371 Z\" fill=\"#000000\" fill-rule=\"nonzero\" fill-opacity=\"1\" /><path clip-path=\"url(#clip010)\" d=\"M108.422 129.839 Q105.089 129.839 103.168 131.621 Q101.27 133.403 101.27 136.528 Q101.27 139.653 103.168 141.436 Q105.089 143.218 108.422 143.218 Q111.756 143.218 113.677 141.436 Q115.598 139.63 115.598 136.528 Q115.598 133.403 113.677 131.621 Q111.779 129.839 108.422 129.839 M103.746 127.848 Q100.737 127.107 99.0474 125.047 Q97.3808 122.987 97.3808 120.024 Q97.3808 115.88 100.321 113.473 Q103.284 111.066 108.422 111.066 Q113.584 111.066 116.524 113.473 Q119.464 115.88 119.464 120.024 Q119.464 122.987 117.774 125.047 Q116.108 127.107 113.121 127.848 Q116.501 128.635 118.376 130.927 Q120.274 133.218 120.274 136.528 Q120.274 141.551 117.195 144.237 Q114.14 146.922 108.422 146.922 Q102.705 146.922 99.6261 144.237 Q96.5706 141.551 96.5706 136.528 Q96.5706 133.218 98.4687 130.927 Q100.367 128.635 103.746 127.848 M102.034 120.464 Q102.034 123.149 103.7 124.653 Q105.39 126.158 108.422 126.158 Q111.432 126.158 113.121 124.653 Q114.834 123.149 114.834 120.464 Q114.834 117.778 113.121 116.274 Q111.432 114.769 108.422 114.769 Q105.39 114.769 103.7 116.274 Q102.034 117.778 102.034 120.464 Z\" fill=\"#000000\" fill-rule=\"nonzero\" fill-opacity=\"1\" /><circle clip-path=\"url(#clip012)\" cx=\"218.439\" cy=\"87.9763\" r=\"14.4\" fill=\"#009af9\" fill-rule=\"evenodd\" fill-opacity=\"1\" stroke=\"#000000\" stroke-opacity=\"1\" stroke-width=\"3.2\"/>\n",
       "<circle clip-path=\"url(#clip012)\" cx=\"425.654\" cy=\"199.74\" r=\"14.4\" fill=\"#009af9\" fill-rule=\"evenodd\" fill-opacity=\"1\" stroke=\"#000000\" stroke-opacity=\"1\" stroke-width=\"3.2\"/>\n",
       "<circle clip-path=\"url(#clip012)\" cx=\"632.869\" cy=\"555.033\" r=\"14.4\" fill=\"#009af9\" fill-rule=\"evenodd\" fill-opacity=\"1\" stroke=\"#000000\" stroke-opacity=\"1\" stroke-width=\"3.2\"/>\n",
       "<circle clip-path=\"url(#clip012)\" cx=\"840.085\" cy=\"643.965\" r=\"14.4\" fill=\"#009af9\" fill-rule=\"evenodd\" fill-opacity=\"1\" stroke=\"#000000\" stroke-opacity=\"1\" stroke-width=\"3.2\"/>\n",
       "<circle clip-path=\"url(#clip012)\" cx=\"1047.3\" cy=\"959.469\" r=\"14.4\" fill=\"#009af9\" fill-rule=\"evenodd\" fill-opacity=\"1\" stroke=\"#000000\" stroke-opacity=\"1\" stroke-width=\"3.2\"/>\n",
       "<circle clip-path=\"url(#clip012)\" cx=\"1254.52\" cy=\"1274.19\" r=\"14.4\" fill=\"#009af9\" fill-rule=\"evenodd\" fill-opacity=\"1\" stroke=\"#000000\" stroke-opacity=\"1\" stroke-width=\"3.2\"/>\n",
       "<circle clip-path=\"url(#clip012)\" cx=\"1461.73\" cy=\"1124.43\" r=\"14.4\" fill=\"#009af9\" fill-rule=\"evenodd\" fill-opacity=\"1\" stroke=\"#000000\" stroke-opacity=\"1\" stroke-width=\"3.2\"/>\n",
       "<circle clip-path=\"url(#clip012)\" cx=\"1668.95\" cy=\"1374.98\" r=\"14.4\" fill=\"#009af9\" fill-rule=\"evenodd\" fill-opacity=\"1\" stroke=\"#000000\" stroke-opacity=\"1\" stroke-width=\"3.2\"/>\n",
       "<circle clip-path=\"url(#clip012)\" cx=\"1876.16\" cy=\"1330.06\" r=\"14.4\" fill=\"#009af9\" fill-rule=\"evenodd\" fill-opacity=\"1\" stroke=\"#000000\" stroke-opacity=\"1\" stroke-width=\"3.2\"/>\n",
       "<circle clip-path=\"url(#clip012)\" cx=\"2083.38\" cy=\"1434.22\" r=\"14.4\" fill=\"#009af9\" fill-rule=\"evenodd\" fill-opacity=\"1\" stroke=\"#000000\" stroke-opacity=\"1\" stroke-width=\"3.2\"/>\n",
       "<circle clip-path=\"url(#clip012)\" cx=\"2290.59\" cy=\"1445.72\" r=\"14.4\" fill=\"#009af9\" fill-rule=\"evenodd\" fill-opacity=\"1\" stroke=\"#000000\" stroke-opacity=\"1\" stroke-width=\"3.2\"/>\n",
       "<path clip-path=\"url(#clip010)\" d=\"M2007.46 198.898 L2279.54 198.898 L2279.54 95.2176 L2007.46 95.2176  Z\" fill=\"#ffffff\" fill-rule=\"evenodd\" fill-opacity=\"1\"/>\n",
       "<polyline clip-path=\"url(#clip010)\" style=\"stroke:#000000; stroke-linecap:round; stroke-linejoin:round; stroke-width:4; stroke-opacity:1; fill:none\" points=\"2007.46,198.898 2279.54,198.898 2279.54,95.2176 2007.46,95.2176 2007.46,198.898 \"/>\n",
       "<circle clip-path=\"url(#clip010)\" cx=\"2105.08\" cy=\"147.058\" r=\"20.48\" fill=\"#009af9\" fill-rule=\"evenodd\" fill-opacity=\"1\" stroke=\"#000000\" stroke-opacity=\"1\" stroke-width=\"4.55111\"/>\n",
       "<path clip-path=\"url(#clip010)\" d=\"M2216.55 166.745 Q2214.74 171.375 2213.03 172.787 Q2211.32 174.199 2208.44 174.199 L2205.04 174.199 L2205.04 170.634 L2207.54 170.634 Q2209.3 170.634 2210.27 169.8 Q2211.25 168.967 2212.43 165.865 L2213.19 163.921 L2202.7 138.412 L2207.22 138.412 L2215.32 158.689 L2223.42 138.412 L2227.94 138.412 L2216.55 166.745 Z\" fill=\"#000000\" fill-rule=\"nonzero\" fill-opacity=\"1\" /><path clip-path=\"url(#clip010)\" d=\"M2235.23 160.402 L2242.87 160.402 L2242.87 134.037 L2234.56 135.703 L2234.56 131.444 L2242.82 129.778 L2247.5 129.778 L2247.5 160.402 L2255.13 160.402 L2255.13 164.338 L2235.23 164.338 L2235.23 160.402 Z\" fill=\"#000000\" fill-rule=\"nonzero\" fill-opacity=\"1\" /></svg>\n"
      ]
     },
     "execution_count": 10,
     "metadata": {},
     "output_type": "execute_result"
    }
   ],
   "source": [
    "scatter(x,y_exp)"
   ]
  },
  {
   "cell_type": "code",
   "execution_count": 14,
   "id": "622f95c1-e6f8-4e9d-8fe4-84d1af4b94bd",
   "metadata": {},
   "outputs": [
    {
     "data": {
      "text/plain": [
       "model (generic function with 1 method)"
      ]
     },
     "execution_count": 14,
     "metadata": {},
     "output_type": "execute_result"
    }
   ],
   "source": [
    "model(x,p) = p[1] .* exp.(-p[2] .* x)"
   ]
  },
  {
   "cell_type": "code",
   "execution_count": 15,
   "id": "fc487ac4-57b3-4900-b014-084d080b4ca1",
   "metadata": {},
   "outputs": [
    {
     "data": {
      "text/plain": [
       "LsqFit.LsqFitResult{Vector{Float64}, Vector{Float64}, Matrix{Float64}, Vector{Float64}, Vector{LsqFit.LMState{LsqFit.LevenbergMarquardt}}}([1.9356481745671594, 1.8585352043523395], [0.09079670391764783, -0.11521819174726922, 0.000889870231765677, -0.12818884765414307, 0.029018800520092092, 0.2172560259401919, -0.07622258279417116, 0.09025784648304919, -0.048274228334211466, -0.008534190265988006, -0.05759065787027584], [0.9999999999946391 0.0; 0.8303952219947992 -0.16073529956673918; … ; 0.1877429227893408 -0.327063821210353; 0.1559008260497866 -0.3017691493604805], true, Iter     Function value   Gradient norm \n",
       "------   --------------   --------------\n",
       ", Float64[])"
      ]
     },
     "execution_count": 15,
     "metadata": {},
     "output_type": "execute_result"
    }
   ],
   "source": [
    "fit = curve_fit(model, x, y_exp, [1.5,1.5])"
   ]
  },
  {
   "cell_type": "code",
   "execution_count": 30,
   "id": "72e72dd5-049f-47d3-85ba-0b42da5b5b45",
   "metadata": {},
   "outputs": [
    {
     "data": {
      "text/plain": [
       "2-element Vector{Float64}:\n",
       " 1.9356481745671594\n",
       " 1.8585352043523395"
      ]
     },
     "execution_count": 30,
     "metadata": {},
     "output_type": "execute_result"
    }
   ],
   "source": [
    "fit.param"
   ]
  },
  {
   "cell_type": "code",
   "execution_count": 18,
   "id": "f273bbaa-9bd6-499a-8543-b4a488221010",
   "metadata": {},
   "outputs": [
    {
     "data": {
      "text/plain": [
       "2×2 Matrix{Float64}:\n",
       " 0.00673887  0.00770161\n",
       " 0.00770161  0.0195645"
      ]
     },
     "execution_count": 18,
     "metadata": {},
     "output_type": "execute_result"
    }
   ],
   "source": [
    "cov = estimate_covar(fit)"
   ]
  },
  {
   "cell_type": "code",
   "execution_count": 19,
   "id": "c983b027-8c80-4ebc-a15b-b1cb9106c503",
   "metadata": {},
   "outputs": [
    {
     "data": {
      "text/plain": [
       "2×2 Matrix{Float64}:\n",
       " 0.0732813  0.0369962\n",
       " 0.0369962  0.134892"
      ]
     },
     "execution_count": 19,
     "metadata": {},
     "output_type": "execute_result"
    }
   ],
   "source": [
    "sqrt(estimate_covar(fit))"
   ]
  },
  {
   "cell_type": "code",
   "execution_count": 21,
   "id": "8bee2c68-4eea-4f47-ab2f-1a4bcfa4c6fb",
   "metadata": {},
   "outputs": [
    {
     "data": {
      "text/plain": [
       "11×2 Matrix{Float64}:\n",
       " 0.0  1.84485\n",
       " 0.1  1.72257\n",
       " 0.2  1.33385\n",
       " 0.3  1.23655\n",
       " 0.4  0.891358\n",
       " 0.5  0.547021\n",
       " 0.6  0.710874\n",
       " 0.7  0.436754\n",
       " 0.8  0.485902\n",
       " 0.9  0.371938\n",
       " 1.0  0.35936"
      ]
     },
     "execution_count": 21,
     "metadata": {},
     "output_type": "execute_result"
    }
   ],
   "source": [
    "p = hcat(x,y_exp)"
   ]
  },
  {
   "cell_type": "code",
   "execution_count": 22,
   "id": "e96fa7fd-59fb-4ffa-9430-9df444dfed95",
   "metadata": {},
   "outputs": [
    {
     "data": {
      "text/plain": [
       "res (generic function with 1 method)"
      ]
     },
     "execution_count": 22,
     "metadata": {},
     "output_type": "execute_result"
    }
   ],
   "source": [
    "function res(u, p)\n",
    "    return u[1] .* exp.( -u[2] .* p[:,1]) .- p[:,2]\n",
    "end"
   ]
  },
  {
   "cell_type": "code",
   "execution_count": 23,
   "id": "71fbbfb5-69d0-4016-8a34-f6578d6e6940",
   "metadata": {},
   "outputs": [
    {
     "data": {
      "text/plain": [
       "11-element Vector{Float64}:\n",
       " -0.3448514706495116\n",
       " -0.43150922275194836\n",
       " -0.22262104640158542\n",
       " -0.28010688370159986\n",
       " -0.06814081239238579\n",
       "  0.1615291361279746\n",
       " -0.1010198288668076\n",
       "  0.0881527012013234\n",
       " -0.034110965340838406\n",
       "  0.016921954919592364\n",
       " -0.02466456700218994"
      ]
     },
     "execution_count": 23,
     "metadata": {},
     "output_type": "execute_result"
    }
   ],
   "source": [
    "res([1.5,1.5],p)"
   ]
  },
  {
   "cell_type": "code",
   "execution_count": 27,
   "id": "23d550a6-5957-4839-83de-13d4fa8b7ec1",
   "metadata": {},
   "outputs": [
    {
     "data": {
      "text/plain": [
       "\u001b[38;2;86;182;194mNonlinearLeastSquaresProblem\u001b[0m with uType \u001b[38;2;86;182;194mVector{Float64}\u001b[0m. In-place: \u001b[38;2;86;182;194mfalse\u001b[0m\n",
       "u0: 2-element Vector{Float64}:\n",
       " 1.5\n",
       " 2.0"
      ]
     },
     "execution_count": 27,
     "metadata": {},
     "output_type": "execute_result"
    }
   ],
   "source": [
    "prob = NonlinearLeastSquaresProblem(res, [1.5,2.0], p)"
   ]
  },
  {
   "cell_type": "code",
   "execution_count": 28,
   "id": "89115a93-ad88-4b46-8a83-867707a3ea61",
   "metadata": {},
   "outputs": [
    {
     "name": "stdout",
     "output_type": "stream",
     "text": [
      "\n",
      "Algorithm: \u001b[32m\u001b[1mGaussNewton(\u001b[22m\u001b[39m\n",
      "\u001b[32m\u001b[1m    descent = NewtonDescent(),\u001b[22m\u001b[39m\n",
      "\u001b[32m\u001b[1m    autodiff = AutoForwardDiff(),\u001b[22m\u001b[39m\n",
      "\u001b[32m\u001b[1m    vjp_autodiff = AutoFiniteDiff(\u001b[22m\u001b[39m\n",
      "\u001b[32m\u001b[1m        fdtype = Val{:forward}(),\u001b[22m\u001b[39m\n",
      "\u001b[32m\u001b[1m        fdjtype = Val{:forward}(),\u001b[22m\u001b[39m\n",
      "\u001b[32m\u001b[1m        fdhtype = Val{:hcentral}()\u001b[22m\u001b[39m\n",
      "\u001b[32m\u001b[1m    ),\u001b[22m\u001b[39m\n",
      "\u001b[32m\u001b[1m    jvp_autodiff = AutoForwardDiff(),\u001b[22m\u001b[39m\n",
      "\u001b[32m\u001b[1m    concrete_jac = Val{false}()\u001b[22m\u001b[39m\n",
      "\u001b[32m\u001b[1m)\u001b[22m\u001b[39m\n",
      "\n",
      "----    \t-------------       \t-----------         \n",
      "Iter    \tf(u) 2-norm         \tStep 2-norm         \n",
      "----    \t-------------       \t-----------         \n",
      "0       \t9.13396159e-01      \t0.00000000e+00      \n",
      "1       \t3.29400640e-01      \t4.75278632e-01      \n",
      "2       \t3.25071351e-01      \t5.10519451e-02      \n",
      "3       \t3.25070755e-01      \t6.21824661e-04      \n",
      "4       \t3.25070755e-01      \t3.95751306e-06      \n",
      "5       \t3.25070755e-01      \t2.41557012e-08      \n",
      "6       \t3.25070755e-01      \t1.47865665e-10      \n",
      "7       \t3.25070755e-01      \t9.05344236e-13      \n",
      "8       \t3.25070755e-01      \t5.70404967e-15      \n",
      "9       \t3.25070755e-01      \t1.41300934e-16      \n",
      "10      \t3.25070755e-01      \t1.38093364e-16      \n",
      "11      \t3.25070755e-01      \t1.38093364e-16      \n",
      "12      \t3.25070755e-01      \t1.38093364e-16      \n",
      "13      \t3.25070755e-01      \t1.38093364e-16      \n",
      "14      \t3.25070755e-01      \t1.38093364e-16      \n",
      "15      \t3.25070755e-01      \t1.38093364e-16      \n",
      "16      \t3.25070755e-01      \t1.38093364e-16      \n",
      "17      \t3.25070755e-01      \t1.38093364e-16      \n",
      "18      \t3.25070755e-01      \t1.38093364e-16      \n",
      "19      \t3.25070755e-01      \t1.38093364e-16      \n",
      "20      \t3.25070755e-01      \t1.38093364e-16      \n",
      "21      \t3.25070755e-01      \t1.38093364e-16      \n",
      "22      \t3.25070755e-01      \t1.38093364e-16      \n",
      "23      \t3.25070755e-01      \t1.38093364e-16      \n",
      "24      \t3.25070755e-01      \t1.38093364e-16      \n",
      "25      \t3.25070755e-01      \t1.38093364e-16      \n",
      "26      \t3.25070755e-01      \t1.38093364e-16      \n",
      "27      \t3.25070755e-01      \t1.38093364e-16      \n",
      "28      \t3.25070755e-01      \t1.38093364e-16      \n",
      "29      \t3.25070755e-01      \t1.38093364e-16      \n",
      "30      \t3.25070755e-01      \t1.38093364e-16      \n",
      "31      \t3.25070755e-01      \t1.38093364e-16      \n",
      "32      \t3.25070755e-01      \t1.38093364e-16      \n",
      "33      \t3.25070755e-01      \t1.38093364e-16      \n",
      "34      \t3.25070755e-01      \t1.38093364e-16      \n",
      "35      \t3.25070755e-01      \t1.38093364e-16      \n",
      "36      \t3.25070755e-01      \t1.38093364e-16      \n",
      "37      \t3.25070755e-01      \t1.38093364e-16      \n",
      "38      \t3.25070755e-01      \t1.38093364e-16      \n",
      "39      \t3.25070755e-01      \t1.38093364e-16      \n",
      "Final   \t3.25070755e-01      \n",
      "----------------------      \n"
     ]
    },
    {
     "data": {
      "text/plain": [
       "retcode: Stalled\n",
       "u: 2-element Vector{Float64}:\n",
       " 1.9356481744850689\n",
       " 1.8585352041447603"
      ]
     },
     "execution_count": 28,
     "metadata": {},
     "output_type": "execute_result"
    }
   ],
   "source": [
    "sol = solve(prob, GaussNewton(); maxiters =1000, show_trace = Val(true))"
   ]
  },
  {
   "cell_type": "code",
   "execution_count": null,
   "id": "18a3c01b-8da9-40e2-a294-72a8bf26140d",
   "metadata": {},
   "outputs": [],
   "source": []
  }
 ],
 "metadata": {
  "kernelspec": {
   "display_name": "Julia 1.11.3",
   "language": "julia",
   "name": "julia-1.11"
  },
  "language_info": {
   "file_extension": ".jl",
   "mimetype": "application/julia",
   "name": "julia",
   "version": "1.11.3"
  }
 },
 "nbformat": 4,
 "nbformat_minor": 5
}
